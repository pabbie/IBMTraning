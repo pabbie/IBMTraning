{
 "cells": [
  {
   "cell_type": "code",
   "execution_count": 1,
   "id": "color-isolation",
   "metadata": {
    "id": "c6f05fed-70d2-4b0f-aa3a-2e48ee6230a0",
    "tags": []
   },
   "outputs": [
    {
     "data": {
      "text/plain": [
       "'test'"
      ]
     },
     "execution_count": 1,
     "metadata": {},
     "output_type": "execute_result"
    }
   ],
   "source": [
    "(\"test\")"
   ]
  },
  {
   "cell_type": "code",
   "execution_count": null,
   "id": "loving-property",
   "metadata": {
    "id": "2425c649-6fb6-40ba-8613-73f18b0e03f1"
   },
   "outputs": [],
   "source": []
  }
 ],
 "metadata": {
  "kernelspec": {
   "display_name": "Python 3.9",
   "language": "python",
   "name": "python3"
  },
  "language_info": {
   "codemirror_mode": {
    "name": "ipython",
    "version": 3
   },
   "file_extension": ".py",
   "mimetype": "text/x-python",
   "name": "python",
   "nbconvert_exporter": "python",
   "pygments_lexer": "ipython3",
   "version": "3.9.7"
  }
 },
 "nbformat": 4,
 "nbformat_minor": 5
}
