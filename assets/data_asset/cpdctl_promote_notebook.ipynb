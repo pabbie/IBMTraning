{
 "cells": [
  {
   "cell_type": "markdown",
   "metadata": {
    "id": "763e3465-2ef5-4676-8259-43860f53c55d"
   },
   "source": [
    "# *cpdctl* Sample Code for Promoting Notebooks to a Deployment Space"
   ]
  },
  {
   "cell_type": "markdown",
   "metadata": {
    "id": "4d1f933d-208b-490d-8c3f-2265b07e73fb"
   },
   "source": [
    "<span style=\"color:red\">**Note: This notebooks is the [sample notebook](https://github.com/IBM/cpdctl/blob/master/samples/Notebook-and-Environment-samples-for-Projects.ipynb) from the cpdctl public repo. It was tested and updated in CPD 4.0.4 - JupyterLab environment for latest cpdctl releases 1.1.132 by WW Data and AI team.**</span>\n",
    "\n",
    "\n",
    "cpdctl is a command-line interface (CLI) that you can use to manage the lifecycle of notebooks. By using the notebook CLI, you can automate the flow for creating notebooks and running notebook jobs, moving notebooks between projects in Watson Studio, and adding custom libraries to notebook runtime environments.\n",
    "\n",
    "Using cpdctl is important for 2 reasons:\n",
    "\n",
    "1. Automation of tasks\n",
    "2. Performing tasks that we can't perform in the UI\n",
    "    - Schedule jobs for notebooks created in JupyterLab (notebooks must be in the Project)\n",
    "    - Promote notebooks to a deployment space"
   ]
  },
  {
   "cell_type": "markdown",
   "metadata": {
    "id": "541e54bb-25a9-43b1-a893-488e5be41968"
   },
   "source": [
    "## Before you begin\n",
    "Import the following libraries:"
   ]
  },
  {
   "cell_type": "code",
   "execution_count": null,
   "metadata": {
    "id": "fe4eb805-a587-4ba9-aac0-b080b9acb390",
    "tags": []
   },
   "outputs": [],
   "source": [
    "# Import required libraries and modules\n",
    "import base64\n",
    "import json\n",
    "import os\n",
    "import platform\n",
    "import requests\n",
    "import tarfile\n",
    "import zipfile\n",
    "import jmespath\n",
    "import subprocess\n",
    "from IPython.core.display import display, HTML"
   ]
  },
  {
   "cell_type": "markdown",
   "metadata": {
    "id": "19ba5a1f-bdd4-4030-9b00-760e1c8324c6"
   },
   "source": [
    "##  Installing and configure CPDCTL <a class=\"anchor\" id=\"part1\"></a>"
   ]
  },
  {
   "cell_type": "markdown",
   "metadata": {
    "id": "895b5d6d-e81b-4027-95d3-c68517ce4d9e"
   },
   "source": [
    "### Install the latest version of CPDCTL <a class=\"anchor\" id=\"part1.1\"></a>### Install the version v1.1.132 of `cpdctl`"
   ]
  },
  {
   "cell_type": "markdown",
   "metadata": {
    "id": "7360f94e-d350-4009-acaf-96fac0f86216"
   },
   "source": [
    "To use the notebook and environment CLI commands, you need to install CPDCTL. Download the binary from the [CPDCTL GitHub respository](https://github.com/IBM/cpdctl/releases)."
   ]
  },
  {
   "cell_type": "markdown",
   "metadata": {
    "id": "51f11e3d-7ce9-4566-aaa0-b41c2b1dd56b"
   },
   "source": [
    "Download the binary and then display the version number:"
   ]
  },
  {
   "cell_type": "code",
   "execution_count": null,
   "metadata": {
    "id": "24f8a6c9-685c-4980-bfe2-a335f134ea83",
    "tags": []
   },
   "outputs": [],
   "source": [
    "PLATFORM = platform.system().lower()\n",
    "CPDCTL_ARCH = \"{}_amd64\".format(PLATFORM)\n",
    "CPDCTL_RELEASES_URL=\"https://api.github.com/repos/IBM/cpdctl/releases\"\n",
    "CWD = os.getcwd()\n",
    "PATH = os.environ['PATH']\n",
    "CPDCONFIG = os.path.join(CWD, '.cpdctl.config.yml')\n",
    "version='v1.1.132'\n",
    "\n",
    "response = requests.get(CPDCTL_RELEASES_URL)\n",
    "asset_version = next(a for a in response.json() if version==a['tag_name'])\n",
    "#assets = response.json()[0]['assets']\n",
    "assets=asset_version['assets']\n",
    "platform_asset = next(a for a in assets if CPDCTL_ARCH in a['name'])\n",
    "cpdctl_url = platform_asset['url']\n",
    "cpdctl_file_name = platform_asset['name']\n",
    "\n",
    "response = requests.get(cpdctl_url, headers={'Accept': 'application/octet-stream'})\n",
    "with open(cpdctl_file_name, 'wb') as f:\n",
    "    f.write(response.content)\n",
    "    \n",
    "display(HTML('<code>cpdctl</code> binary downloaded from: <a href=\"{}\">{}</a>'.format(platform_asset['browser_download_url'], platform_asset['name'])))"
   ]
  },
  {
   "cell_type": "code",
   "execution_count": null,
   "metadata": {
    "id": "e5c591f4-f2ce-48b3-b496-5c85177c3c82",
    "tags": []
   },
   "outputs": [],
   "source": [
    "%%capture\n",
    "\n",
    "%env PATH={CWD}:{PATH}\n",
    "%env CPDCONFIG={CPDCONFIG}"
   ]
  },
  {
   "cell_type": "code",
   "execution_count": null,
   "metadata": {
    "id": "c553c9dd-c425-4bee-b7db-2f0e10f6cbb4",
    "tags": []
   },
   "outputs": [],
   "source": [
    "if cpdctl_file_name.endswith('tar.gz'):\n",
    "    with tarfile.open(cpdctl_file_name, \"r:gz\") as tar:\n",
    "        tar.extractall()\n",
    "elif cpdctl_file_name.endswith('zip'):\n",
    "    with zipfile.ZipFile(cpdctl_file_name, 'r') as zf:\n",
    "        zf.extractall()\n",
    "\n",
    "if CPDCONFIG and os.path.exists(CPDCONFIG):\n",
    "    os.remove(CPDCONFIG)\n",
    "    \n",
    "version_r = ! cpdctl version\n",
    "CPDCTL_VERSION = version_r.s\n",
    "\n",
    "print(\"cpdctl version: {}\".format(CPDCTL_VERSION))"
   ]
  },
  {
   "cell_type": "markdown",
   "metadata": {
    "id": "069204dc-308a-4dbb-8b50-d173dddfd448"
   },
   "source": [
    "### Add CPD cluster configuration settings <a class=\"anchor\" id=\"part1.2\"></a>"
   ]
  },
  {
   "cell_type": "markdown",
   "metadata": {
    "id": "f8931550-d65c-4390-b295-faf0e334a8e2"
   },
   "source": [
    "Before you can use CPDCTL, you need to add configuration settings. You only need to configure these settings once for the same IBM Cloud Pak for Data (CPD) user and cluster. Begin by entering your CPD credentials and the URL to the CPD cluster:"
   ]
  },
  {
   "cell_type": "code",
   "execution_count": null,
   "metadata": {
    "id": "5e902cd5-cdff-40e5-999a-04f69f6d339a",
    "tags": []
   },
   "outputs": [],
   "source": [
    "# This information is needed only when cpdctl is used from outside of CPD\n",
    "#CPD_USERNAME = ' ' # for example: datascientist\n",
    "#CPD_PASSWORD = ' '\n",
    "#CPD_URL = ' ' #typically, this would be https://cpd-cpd-instance.apps.demo.ibmdte.net"
   ]
  },
  {
   "cell_type": "markdown",
   "metadata": {
    "id": "17cf7f8e-44e9-457b-b1e2-b812e2c82e1a"
   },
   "source": [
    "List available spaces in context:"
   ]
  },
  {
   "cell_type": "code",
   "execution_count": null,
   "metadata": {
    "id": "b6ba5d97-a3b7-4bc6-b32d-4cb86ecc2f89",
    "tags": []
   },
   "outputs": [],
   "source": [
    "! cpdctl space list"
   ]
  },
  {
   "cell_type": "markdown",
   "metadata": {
    "id": "7679bdf5-336d-4559-ab87-b4bcafcf269f"
   },
   "source": [
    "Choose the space in which you want to work:"
   ]
  },
  {
   "cell_type": "code",
   "execution_count": null,
   "metadata": {
    "id": "4bc57103-d035-4f23-be5f-da597920ded2",
    "tags": []
   },
   "outputs": [],
   "source": [
    "#result = ! cpdctl space list --output json -j \"(resources[].metadata.id)[0]\" --raw-output\n",
    "#space_id = result.s\n",
    "# print(\"space id: {}\".format(space_id))\n",
    "\n",
    "# You can also specify your space id directly:\n",
    "space_id = \" \""
   ]
  },
  {
   "cell_type": "markdown",
   "metadata": {
    "id": "3a4d5c3f-4b66-4fd8-b86c-1d66c2a0b9c5"
   },
   "source": [
    "## 2.Creating a notebook asset and in the deployment space and run a job <a class=\"anchor\" id=\"part2\"></a>"
   ]
  },
  {
   "cell_type": "markdown",
   "metadata": {
    "id": "85ae008e-431e-460f-a069-e218d44073ad"
   },
   "source": [
    "### 2.1 Create a notebook asset<a class=\"anchor\" id=\"part2.1\"></a>"
   ]
  },
  {
   "cell_type": "markdown",
   "metadata": {
    "id": "d908010d-54c5-4d86-b650-78ff8d9505da"
   },
   "source": [
    "First, we create a *notebook asset* in your project. Assets are used to capture various metadata. To create a notebook asset you need to specify:\n",
    "\n",
    "- The environment in which your notebook is to run\n",
    "- A notebook file (.ipynb)."
   ]
  },
  {
   "cell_type": "markdown",
   "metadata": {
    "id": "46a6c16b-4bfe-4bce-956e-e586243eb97c"
   },
   "source": [
    "List all the environments in your space, filter them by their display name and get the ID of the environment in which your notebook will be run:"
   ]
  },
  {
   "cell_type": "code",
   "execution_count": null,
   "metadata": {
    "id": "e80a54b9-493c-4dbb-90c7-40da77842b98",
    "tags": []
   },
   "outputs": [],
   "source": [
    "environment_name = \"Default Python 3.8\"\n",
    "query_string = \"(resources[?entity.environment.display_name == '{}'].metadata.asset_id)[0]\".format(environment_name)"
   ]
  },
  {
   "cell_type": "code",
   "execution_count": null,
   "metadata": {
    "id": "b3ce1bd3-847e-4aa9-aef8-d3738ade30ac",
    "tags": []
   },
   "outputs": [],
   "source": [
    "result = ! cpdctl environment list --space-id {space_id} --output json -j \"{query_string}\" --raw-output\n",
    "env_id = result.s\n",
    "print(\"environment id: {}\".format(env_id))\n",
    "\n",
    "# You can also specify your environment id directly:\n",
    "# env_id = \"Your environment ID\""
   ]
  },
  {
   "cell_type": "markdown",
   "metadata": {
    "id": "a6427540-59bf-4a3a-865e-ab381b7e494d"
   },
   "source": [
    "The notebook that we will promote is *Notebook1.ipynb*. You can either create a new notebook with this name or change the name in the code to one of the notebooks in your directory. "
   ]
  },
  {
   "cell_type": "code",
   "execution_count": null,
   "metadata": {
    "id": "330b7e1a-b45a-4da0-b313-d605f6f474ae",
    "tags": []
   },
   "outputs": [],
   "source": [
    "remote_file_path = \"notebook/Notebook1.ipynb\"\n",
    "local_file_path = \"Notebook1.ipynb\""
   ]
  },
  {
   "cell_type": "code",
   "execution_count": null,
   "metadata": {
    "id": "2e3008c5-9470-4c0c-9905-a539969bb9f8",
    "tags": []
   },
   "outputs": [],
   "source": [
    "! cpdctl asset file upload --path {remote_file_path} --file {local_file_path} --space-id {space_id}"
   ]
  },
  {
   "cell_type": "markdown",
   "metadata": {
    "id": "7599eb93-5a14-4183-83b6-23c8d9bf25c4"
   },
   "source": [
    "Create a notebook asset:"
   ]
  },
  {
   "cell_type": "code",
   "execution_count": null,
   "metadata": {
    "id": "02b8b23b-c349-466f-a426-ba9a973ba75c",
    "tags": []
   },
   "outputs": [],
   "source": [
    "file_name = \"Notebook1.ipynb\"\n",
    "runtime = {\n",
    "    'environment': env_id\n",
    "}\n",
    "runtime_json = json.dumps(runtime)"
   ]
  },
  {
   "cell_type": "code",
   "execution_count": null,
   "metadata": {
    "id": "7ac5531a-6be2-4be9-9902-c29d888c797c",
    "tags": []
   },
   "outputs": [],
   "source": [
    "result = ! cpdctl notebook create --file-reference {remote_file_path} --name {file_name} --space {space_id} --runtime '{runtime_json}' --output json -j \"metadata.asset_id\" --raw-output\n",
    "notebook_id = result.s\n",
    "print(\"notebook id: {}\".format(notebook_id))"
   ]
  },
  {
   "cell_type": "markdown",
   "metadata": {
    "id": "208a80d9-75e8-49cc-befb-6467f9c18dfc"
   },
   "source": [
    "<span style=\"color:red\">Important Note: Check the target deployment space. *Notebook1* should show up in the Assets tab. </span>"
   ]
  },
  {
   "cell_type": "markdown",
   "metadata": {
    "id": "b629a791-3fec-489a-8bd9-357be8ba0cc3"
   },
   "source": [
    "### 2.2 Running a job <a class=\"anchor\" id=\"part2.2\"></a>"
   ]
  },
  {
   "cell_type": "markdown",
   "metadata": {
    "id": "60842b3b-ab72-46ab-bf25-4f3d9b909f8b"
   },
   "source": [
    "To create a notebook job, you need to give your job a name, add a description, and pass the notebook ID and environment ID you determined in [2.1](#part2.1). Additionally, you can add environment variables that will be used in your notebook:"
   ]
  },
  {
   "cell_type": "code",
   "execution_count": null,
   "metadata": {
    "id": "287ecd42-4c5d-4620-ab97-da37f9395ba2",
    "tags": []
   },
   "outputs": [],
   "source": [
    "job_name = \"cpdctl-test-job\"\n",
    "job = {\n",
    "    'asset_ref': notebook_id, \n",
    "    'configuration': {\n",
    "        'env_id': env_id, \n",
    "        'env_variables': [\n",
    "            'foo=1', \n",
    "            'bar=2'\n",
    "        ]\n",
    "    }, \n",
    "    'description': 'my job', \n",
    "    'name': job_name\n",
    "}\n",
    "job_json = json.dumps(job)"
   ]
  },
  {
   "cell_type": "code",
   "execution_count": null,
   "metadata": {
    "id": "9a3f7a54-9e80-483d-b68a-1b67ca97bb85",
    "tags": []
   },
   "outputs": [],
   "source": [
    "result = ! cpdctl job create --job '{job_json}' --space-id {space_id} --output json -j \"metadata.asset_id\" --raw-output\n",
    "job_id = result.s\n",
    "print(\"job id: {}\".format(job_id))"
   ]
  },
  {
   "cell_type": "markdown",
   "metadata": {
    "id": "ef4b823b-2080-4a36-9391-d54a493acece"
   },
   "source": [
    "Run a notebook job:"
   ]
  },
  {
   "cell_type": "code",
   "execution_count": null,
   "metadata": {
    "id": "0c981dbe-7075-4518-8666-85a5573638ef",
    "tags": []
   },
   "outputs": [],
   "source": [
    "job_run = {\n",
    "    'configuration': {\n",
    "        'env_variables': [\n",
    "            'key1=value1', \n",
    "            'key2=value2'\n",
    "        ]\n",
    "    }\n",
    "}\n",
    "job_run_json = json.dumps(job_run)"
   ]
  },
  {
   "cell_type": "code",
   "execution_count": null,
   "metadata": {
    "id": "cf2d8e6a-e481-48b2-b0a6-8a32b991ba7b",
    "tags": []
   },
   "outputs": [],
   "source": [
    "result = ! cpdctl job run create --space-id {space_id} --job-id {job_id} --job-run '{job_run_json}' --output json -j \"metadata.asset_id\" --raw-output\n",
    "run_id = result.s\n",
    "print(\"run id: {}\".format(run_id))"
   ]
  },
  {
   "cell_type": "markdown",
   "metadata": {
    "id": "80105ea9-7212-4eb5-bb38-38cf74c576dd"
   },
   "source": [
    "You can see the output of each cell in your .ipynb file by listing job run logs:"
   ]
  },
  {
   "cell_type": "code",
   "execution_count": null,
   "metadata": {
    "id": "2bed7289-df5a-4557-9de2-1e0c9f68066b",
    "scrolled": true
   },
   "outputs": [],
   "source": [
    "! cpdctl job run logs --job-id {job_id} --run-id {run_id} --space-id {space_id}"
   ]
  },
  {
   "cell_type": "markdown",
   "metadata": {
    "id": "e944326e-459a-48f9-ba80-cee9f592ac1c"
   },
   "source": [
    "<span style=\"color:red\">Important Note: Check the target deployment space. You should show see a running job in the Jobs tab. </span>"
   ]
  },
  {
   "cell_type": "markdown",
   "metadata": {
    "id": "27d76742-63c9-40c1-9142-c77927be9915"
   },
   "source": [
    "Copyright © 2021 IBM. This notebook and its source code are released under the terms of the MIT License."
   ]
  }
 ],
 "metadata": {
  "kernelspec": {
   "display_name": "Python 3.8",
   "language": "python",
   "name": "python3"
  },
  "language_info": {
   "codemirror_mode": {
    "name": "ipython",
    "version": 3
   },
   "file_extension": ".py",
   "mimetype": "text/x-python",
   "name": "python",
   "nbconvert_exporter": "python",
   "pygments_lexer": "ipython3",
   "version": "3.8.11"
  }
 },
 "nbformat": 4,
 "nbformat_minor": 4
}
