{
 "cells": [
  {
   "cell_type": "markdown",
   "id": "certain-zambia",
   "metadata": {
    "id": "4265cdd2-070f-4158-922d-0bd864cfcaf4"
   },
   "source": [
    "# *cpdctl* Sample Code for Copying Notebooks to Another Project"
   ]
  },
  {
   "cell_type": "markdown",
   "id": "referenced-yahoo",
   "metadata": {
    "id": "41964aef-cfd6-4f13-874a-a197d1088d01",
    "tags": []
   },
   "source": [
    "<span style=\"color:red\">**Note: This notebooks is the [sample notebook](https://github.com/IBM/cpdctl/blob/master/samples/Notebook-and-Environment-samples-for-Projects.ipynb) from the cpdctl public repo. It was tested and updated in CPD 4.0.4 - JupyterLab environment for latest cpdctl releases 1.1.132 by WW Data and AI team.**</span>\n",
    "\n",
    "\n",
    "cpdctl is a command-line interface (CLI) that you can use to manage the lifecycle of notebooks. By using the notebook CLI, you can automate the flow for creating notebooks and running notebook jobs, moving notebooks between projects in Watson Studio, and adding custom libraries to notebook runtime environments.\n",
    "\n",
    "Using cpdctl is important for 2 reasons:\n",
    "\n",
    "1. Automation of tasks\n",
    "2. Performing tasks that we can't perform in the UI\n",
    "    - Schedule jobs for notebooks created in JupyterLab (notebooks must be in the Project)\n",
    "    - Promote notebooks to a deployment space"
   ]
  },
  {
   "cell_type": "markdown",
   "id": "controlled-detective",
   "metadata": {
    "id": "20245907-8e34-4d3d-b72d-70f3121da81f"
   },
   "source": [
    "## Before you begin - setup"
   ]
  },
  {
   "cell_type": "markdown",
   "id": "opposite-death",
   "metadata": {
    "id": "096e85a2-b899-4559-a731-cb71265255fd"
   },
   "source": [
    "### Import required libraries and modules"
   ]
  },
  {
   "cell_type": "code",
   "execution_count": null,
   "id": "incoming-allah",
   "metadata": {
    "id": "94db9442-069d-4543-95ed-ddf0ed68e931",
    "tags": []
   },
   "outputs": [],
   "source": [
    "# Import required libraries and modules\n",
    "import base64\n",
    "import json\n",
    "import os\n",
    "import platform\n",
    "import requests\n",
    "import tarfile\n",
    "import zipfile\n",
    "import jmespath\n",
    "import subprocess\n",
    "from IPython.core.display import display, HTML"
   ]
  },
  {
   "cell_type": "markdown",
   "id": "infectious-apple",
   "metadata": {
    "id": "236f0f7f-f0f8-4ce1-a166-c8ebdedc26fe"
   },
   "source": [
    "### Install the version v1.1.132 of `cpdctl`"
   ]
  },
  {
   "cell_type": "code",
   "execution_count": null,
   "id": "prepared-witch",
   "metadata": {
    "id": "d5878af5-3923-4606-ba1a-eaa4b3789611",
    "tags": []
   },
   "outputs": [],
   "source": [
    "PLATFORM = platform.system().lower()\n",
    "CPDCTL_ARCH = \"{}_amd64\".format(PLATFORM)\n",
    "CPDCTL_RELEASES_URL=\"https://api.github.com/repos/IBM/cpdctl/releases\"\n",
    "CWD = os.getcwd()\n",
    "PATH = os.environ['PATH']\n",
    "CPDCONFIG = os.path.join(CWD, '.cpdctl.config.yml')\n",
    "version='v1.1.132'\n",
    "\n",
    "response = requests.get(CPDCTL_RELEASES_URL)\n",
    "asset_version = next(a for a in response.json() if version==a['tag_name'])\n",
    "#assets = response.json()[0]['assets']\n",
    "assets=asset_version['assets']\n",
    "platform_asset = next(a for a in assets if CPDCTL_ARCH in a['name'])\n",
    "cpdctl_url = platform_asset['url']\n",
    "cpdctl_file_name = platform_asset['name']\n",
    "\n",
    "response = requests.get(cpdctl_url, headers={'Accept': 'application/octet-stream'})\n",
    "with open(cpdctl_file_name, 'wb') as f:\n",
    "    f.write(response.content)\n",
    "    \n",
    "display(HTML('<code>cpdctl</code> binary downloaded from: <a href=\"{}\">{}</a>'.format(platform_asset['browser_download_url'], platform_asset['name'])))"
   ]
  },
  {
   "cell_type": "code",
   "execution_count": null,
   "id": "accomplished-plant",
   "metadata": {
    "id": "f7125930-861f-4786-a540-b0f67147805e",
    "tags": []
   },
   "outputs": [],
   "source": [
    "%%capture\n",
    "\n",
    "%env PATH={CWD}:{PATH}\n",
    "%env CPDCONFIG={CPDCONFIG}"
   ]
  },
  {
   "cell_type": "code",
   "execution_count": null,
   "id": "consecutive-maria",
   "metadata": {
    "id": "f401dfa5-01e7-4c13-beac-19723155e9e1",
    "tags": []
   },
   "outputs": [],
   "source": [
    "if cpdctl_file_name.endswith('tar.gz'):\n",
    "    with tarfile.open(cpdctl_file_name, \"r:gz\") as tar:\n",
    "        tar.extractall()\n",
    "elif cpdctl_file_name.endswith('zip'):\n",
    "    with zipfile.ZipFile(cpdctl_file_name, 'r') as zf:\n",
    "        zf.extractall()\n",
    "\n",
    "if CPDCONFIG and os.path.exists(CPDCONFIG):\n",
    "    os.remove(CPDCONFIG)\n",
    "    \n",
    "version_r = ! cpdctl version\n",
    "CPDCTL_VERSION = version_r.s\n",
    "\n",
    "print(\"cpdctl version: {}\".format(CPDCTL_VERSION))"
   ]
  },
  {
   "cell_type": "code",
   "execution_count": null,
   "id": "flexible-julian",
   "metadata": {
    "id": "83a10545-c5fd-4eb6-8e9a-cc4422be59b2",
    "tags": []
   },
   "outputs": [],
   "source": [
    "!which cpdctl"
   ]
  },
  {
   "cell_type": "code",
   "execution_count": null,
   "id": "weighted-sunglasses",
   "metadata": {
    "id": "879d975f-7a54-4ca5-a46a-084c9df7c800",
    "tags": []
   },
   "outputs": [],
   "source": [
    "!cpdctl version"
   ]
  },
  {
   "cell_type": "markdown",
   "id": "polar-amendment",
   "metadata": {
    "id": "623ca92f-5162-46f7-9e70-b14a3539709e"
   },
   "source": [
    "## 1. Provide CPD Cluster credentials"
   ]
  },
  {
   "cell_type": "code",
   "execution_count": null,
   "id": "helpful-porter",
   "metadata": {
    "id": "52f01409-7ef3-4312-9901-860ebe4dd707",
    "tags": []
   },
   "outputs": [],
   "source": [
    "# Needed only if cpdctl is used outside of the CPD cluster\n",
    "#CPD_USERNAME = ' ' # for example: datascientist\n",
    "#CPD_PASSWORD = ' '\n",
    "#CPD_URL = ' ' #typically, this would be https://cpd-cpd-instance.apps.demo.ibmdte.net"
   ]
  },
  {
   "cell_type": "markdown",
   "id": "advanced-contrast",
   "metadata": {
    "id": "e91f102a-01c0-4168-a7fb-fbb9559ab2eb"
   },
   "source": [
    "Since this notebook runs inside of the CPD cluster you want to interact with the cpdctl tool, you can leverage the zeror configration mode, which automatcially connects to the CP4D instance."
   ]
  },
  {
   "cell_type": "code",
   "execution_count": null,
   "id": "nasty-street",
   "metadata": {
    "id": "b6accbf2-c539-4f11-b8ae-296d474b7138",
    "tags": []
   },
   "outputs": [],
   "source": [
    "# show all project\n",
    "! cpdctl project list"
   ]
  },
  {
   "cell_type": "markdown",
   "id": "tough-reviewer",
   "metadata": {
    "id": "e7b44d66-e99e-47f2-a217-e8e3fc0487a9",
    "tags": []
   },
   "source": [
    "## 2. Choose a project to copy assets to"
   ]
  },
  {
   "cell_type": "markdown",
   "id": "developmental-america",
   "metadata": {
    "id": "4c72e72b-9a15-4998-aa21-3c493e7e4bfb"
   },
   "source": [
    "<span style=\"color:red\">Important Note: Assets can be copied only to projects that are NOT configured with git"
   ]
  },
  {
   "cell_type": "code",
   "execution_count": null,
   "id": "advisory-channels",
   "metadata": {
    "id": "144f6ab0-9609-4a0a-8da0-6183df6ccaea",
    "tags": []
   },
   "outputs": [],
   "source": [
    "# You can specify your project id directly:\n",
    "project_id = \"\"\n",
    "\n",
    "# OR you can reference it by index[0] is the index of the project id list\n",
    "#result = ! cpdctl project list --output json -j \"(resources[].metadata.guid)[0]\" --raw-output\n",
    "#project_id = result.s\n",
    "\n",
    "print(\"project id: {}\".format(project_id))"
   ]
  },
  {
   "cell_type": "markdown",
   "id": "collected-machine",
   "metadata": {
    "id": "499a8a16-3d42-434f-8fcc-e27a8a1e1625"
   },
   "source": [
    "## 3. Create a notebook in a non-git project using cpdctl\n",
    "\n",
    "First, we create a *notebook asset* in your project. Assets are used to capture various metadata. To create a notebook asset you need to specify:\n",
    "\n",
    "- The environment in which your notebook is to run\n",
    "- A notebook file (.ipynb)."
   ]
  },
  {
   "cell_type": "markdown",
   "id": "latin-genealogy",
   "metadata": {
    "id": "658c5ca2-2750-4a3e-b444-2ee494a74b96"
   },
   "source": [
    "### 3.1 Get the environment ID\n",
    "\n",
    "List all the environments in your project, filter them by their display name and get the ID of the environment in which your notebook will be run:"
   ]
  },
  {
   "cell_type": "code",
   "execution_count": null,
   "id": "hollywood-pencil",
   "metadata": {
    "id": "5c10fb5f-98dc-45b5-be1e-15651b3ecb06",
    "tags": []
   },
   "outputs": [],
   "source": [
    "# You can find the name of the available environments in the project => Environment tab\n",
    "\n",
    "environment_name = \"Default Python 3.8\"\n",
    "query_string = \"(resources[?entity.environment.display_name == '{}'].metadata.asset_id)[0]\".format(environment_name)"
   ]
  },
  {
   "cell_type": "code",
   "execution_count": null,
   "id": "frequent-biotechnology",
   "metadata": {
    "id": "9ddd6f07-675b-4971-b6df-3f010a99ebe2",
    "tags": []
   },
   "outputs": [],
   "source": [
    "result = ! cpdctl environment list --project-id {project_id} --output json -j \"{query_string}\" --raw-output\n",
    "env_id = result.s\n",
    "print(\"environment id: {}\".format(env_id))\n",
    "\n",
    "# You can also specify your environment id directly:\n",
    "# env_id = \"Your environment ID\""
   ]
  },
  {
   "cell_type": "markdown",
   "id": "convenient-racing",
   "metadata": {
    "id": "d718afd2-98cb-4ba8-84a4-fb406ce9914e"
   },
   "source": [
    "### 3.2 Upload the .ipynb file"
   ]
  },
  {
   "cell_type": "markdown",
   "id": "brave-disorder",
   "metadata": {
    "id": "0231502d-b065-48e1-ba5a-635143b621fb",
    "tags": []
   },
   "source": [
    "The notebook that we will promote is *Notebook1.ipynb*. You can either create a new notebook with this name or change the name in the code to one of the notebooks in your directory. "
   ]
  },
  {
   "cell_type": "code",
   "execution_count": null,
   "id": "lasting-reaction",
   "metadata": {
    "id": "ad33d8fe-7454-4187-9a9f-07184068e1da",
    "tags": []
   },
   "outputs": [],
   "source": [
    "remote_file_path = \"notebook/Notebook1.ipynb\"\n",
    "local_file_path = \"Notebook1.ipynb\""
   ]
  },
  {
   "cell_type": "code",
   "execution_count": null,
   "id": "liberal-vertex",
   "metadata": {
    "id": "60f32e91-345b-4059-b14a-773b4cfa7145",
    "tags": []
   },
   "outputs": [],
   "source": [
    "! cpdctl asset file upload --path {remote_file_path} --file {local_file_path} --project-id {project_id}"
   ]
  },
  {
   "cell_type": "markdown",
   "id": "proof-money",
   "metadata": {
    "id": "48264a59-dc29-4f5b-93db-31ad6f151f50"
   },
   "source": [
    "### 3.3 Create a notebook asset: associate environment runtime with the notebook file"
   ]
  },
  {
   "cell_type": "markdown",
   "id": "employed-exclusion",
   "metadata": {
    "id": "69e29981-e907-4764-b88d-0938fc5ae259"
   },
   "source": [
    "Notebooks in Watson Studio must have metadata, such as the environment associated with the notebook. The following code specifies the environment that will be used for the copied notebook.  "
   ]
  },
  {
   "cell_type": "code",
   "execution_count": null,
   "id": "daily-fifth",
   "metadata": {
    "id": "b3dd349f-68d9-4362-8b2f-9b42c9131919",
    "tags": []
   },
   "outputs": [],
   "source": [
    "file_name = \"Notebook1.ipynb\"\n",
    "\n",
    "runtime = {\n",
    "    'environment': env_id\n",
    "}\n",
    "runtime_json = json.dumps(runtime)\n",
    "\n",
    "originate = {\n",
    "    'type': 'blank'\n",
    "}\n",
    "originate_json = json.dumps(originate)"
   ]
  },
  {
   "cell_type": "code",
   "execution_count": null,
   "id": "surprised-rocket",
   "metadata": {
    "id": "cb7a6ae2-02da-408e-b33f-d463b04fad8e",
    "tags": []
   },
   "outputs": [],
   "source": [
    "result = ! cpdctl notebook create --file-reference {remote_file_path} --name {file_name} --project {project_id} --runtime '{runtime_json}' --originates-from '{originate_json}' --output json -j \"metadata.asset_id\" --raw-output\n",
    "notebook_id = result.s\n",
    "print(\"notebook id: {}\".format(notebook_id))"
   ]
  },
  {
   "cell_type": "markdown",
   "id": "processed-casino",
   "metadata": {
    "id": "54672c51-c913-42b6-a2a4-f80a4c2b6cda"
   },
   "source": [
    "<span style=\"color:red\">Important Note: Check the target project. *Notebook1* should show up in the Notebook section of the Assets tab. </span>"
   ]
  },
  {
   "cell_type": "markdown",
   "id": "corporate-loading",
   "metadata": {
    "id": "9dd9e8b3-83e5-406a-9134-1bc0a69a4190"
   },
   "source": [
    "## 4. Create and run a notebook job"
   ]
  },
  {
   "cell_type": "code",
   "execution_count": null,
   "id": "nervous-yeast",
   "metadata": {
    "id": "eaa5f347-7eb9-43e4-b77e-64444259657c",
    "tags": []
   },
   "outputs": [],
   "source": [
    "result = ! cpdctl notebook version create --notebook-id {notebook_id} --output json -j \"metadata.guid\" --raw-output\n",
    "version_id = result.s\n",
    "print(\"version id: {}\".format(version_id))"
   ]
  },
  {
   "cell_type": "code",
   "execution_count": null,
   "id": "fundamental-triple",
   "metadata": {
    "id": "3b8f8561-4f25-4ede-8dc4-e1efd7cc6b9c",
    "tags": []
   },
   "outputs": [],
   "source": [
    "! cpdctl notebook version create --notebook-id {notebook_id} --output json -j \"metadata.guid\" --raw-output"
   ]
  },
  {
   "cell_type": "code",
   "execution_count": null,
   "id": "serious-france",
   "metadata": {
    "id": "c84f5eb6-89b9-4426-8be0-a8c95f415111",
    "tags": []
   },
   "outputs": [],
   "source": [
    "job_name = \"cpdctl-test-job\"\n",
    "job = {\n",
    "    'asset_ref': notebook_id, \n",
    "    'configuration': {\n",
    "        'env_id': env_id, \n",
    "        'env_variables': [\n",
    "           # 'foo=1', \n",
    "           # 'bar=2'\n",
    "        ]\n",
    "    }, \n",
    "    'description': 'my job', \n",
    "    'name': job_name\n",
    "}\n",
    "job_json = json.dumps(job)"
   ]
  },
  {
   "cell_type": "code",
   "execution_count": null,
   "id": "meaning-causing",
   "metadata": {
    "id": "a5fefeee-179b-4f97-8241-fab079a78415",
    "tags": []
   },
   "outputs": [],
   "source": [
    "result = ! cpdctl job create --job '{job_json}' --project-id {project_id} --output json -j \"metadata.asset_id\" --raw-output\n",
    "job_id = result.s\n",
    "print(\"job id: {}\".format(job_id))"
   ]
  },
  {
   "cell_type": "code",
   "execution_count": null,
   "id": "flexible-sunday",
   "metadata": {
    "id": "f850606f-47a3-4b40-b7fa-57762bb37b3c",
    "tags": []
   },
   "outputs": [],
   "source": [
    "job_run = {\n",
    "    'configuration': {\n",
    "        'env_variables': [\n",
    "            #'key1=value1', \n",
    "            #'key2=value2'\n",
    "        ]\n",
    "    }\n",
    "}\n",
    "job_run_json = json.dumps(job_run)"
   ]
  },
  {
   "cell_type": "code",
   "execution_count": null,
   "id": "powerful-defendant",
   "metadata": {
    "id": "4b63f08b-ed11-4829-b215-69d9ab54a885",
    "tags": []
   },
   "outputs": [],
   "source": [
    "result = ! cpdctl job run create --project-id {project_id} --job-id {job_id} --job-run '{job_run_json}' --output json -j \"metadata.asset_id\" --raw-output\n",
    "run_id = result.s\n",
    "print(\"run id: {}\".format(run_id))"
   ]
  },
  {
   "cell_type": "code",
   "execution_count": null,
   "id": "champion-session",
   "metadata": {
    "id": "7fd7ae72-57c3-4b7a-8745-00f6957f19e0",
    "tags": []
   },
   "outputs": [],
   "source": [
    "! cpdctl job run logs --job-id {job_id} --run-id {run_id} --project-id {project_id}"
   ]
  },
  {
   "cell_type": "markdown",
   "id": "stunning-andorra",
   "metadata": {
    "id": "35255fd1-7cf1-42b2-a01e-fd2d9fd2ca26"
   },
   "source": [
    "<span style=\"color:red\">Important Note: Check the target project. *Notebook1* should be running (Jobs tab). </span>"
   ]
  }
 ],
 "metadata": {
  "kernelspec": {
   "display_name": "Python 3.8",
   "language": "python",
   "name": "python3"
  },
  "language_info": {
   "codemirror_mode": {
    "name": "ipython",
    "version": 3
   },
   "file_extension": ".py",
   "mimetype": "text/x-python",
   "name": "python",
   "nbconvert_exporter": "python",
   "pygments_lexer": "ipython3",
   "version": "3.8.11"
  }
 },
 "nbformat": 4,
 "nbformat_minor": 5
}
