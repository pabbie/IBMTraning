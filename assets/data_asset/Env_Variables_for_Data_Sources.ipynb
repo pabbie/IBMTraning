{
 "cells": [
  {
   "cell_type": "markdown",
   "metadata": {
    "id": "637811d1511d429981e03c392bd5b2b9"
   },
   "source": [
    "## About this Example\n",
    "\n",
    "This notebook contains sample code for switching data sources without changing code. We use **environment variables** to determine which data source to use.\n",
    "\n",
    "Notebook UI in *Watson Studio* does not have the capability to set environment variables, but Jobs UI for notebooks provides this capability. Because of the current design:\n",
    "1. We set the environment variable programmatically, test the notebook, and then comment out the code.\n",
    "2. When we schedule a notebook job, we set the environment variable. Since we commented out the code in Step 1, only the environment variable will be used to determine which connection to use.\n",
    "\n",
    "In this example we are using two DB connections that have been defined in the project (*DB2_Dev* and *DB2_Prod*) that have different schemas but the same table. You can modify the code for your scenario, for example switching between database and file data sources. "
   ]
  },
  {
   "cell_type": "markdown",
   "metadata": {
    "id": "80ea349b80d74e6982e38136b382a9e5"
   },
   "source": [
    "## Dev data source: test"
   ]
  },
  {
   "cell_type": "code",
   "execution_count": null,
   "metadata": {
    "id": "55e7913d-b6e0-4304-8f2e-a50098174938"
   },
   "outputs": [],
   "source": [
    "import itc_utils.flight_service as itcfs\n",
    "\n",
    "readClient = itcfs.get_flight_client()\n",
    "\n",
    "DB2_Dev_data_request = {\n",
    "    'connection_name': \"\"\"DB2_Dev\"\"\",\n",
    "    'select_statement': 'SELECT * FROM \"JLD84201\".\"CUST_TRANS\"'\n",
    "}\n",
    "\n",
    "flightInfo = itcfs.get_flight_info(readClient, nb_data_request=DB2_Dev_data_request)\n",
    "\n",
    "data_df_1 = itcfs.read_pandas_and_concat(readClient, flightInfo)\n",
    "data_df_1.head(10)\n"
   ]
  },
  {
   "cell_type": "markdown",
   "metadata": {
    "id": "26a0edfb96094f69ae5534c9686eaa0f"
   },
   "source": [
    "## Prod data source: test"
   ]
  },
  {
   "cell_type": "code",
   "execution_count": null,
   "metadata": {
    "id": "797495d991244fd9bcb26955536f3566"
   },
   "outputs": [],
   "source": [
    "import itc_utils.flight_service as itcfs\n",
    "\n",
    "readClient = itcfs.get_flight_client()\n",
    "\n",
    "DB2_Prod_data_request = {\n",
    "    'connection_name': \"\"\"DB2_Prod\"\"\",\n",
    "    'select_statement': 'SELECT * FROM \"TVV29432\".\"CUST_TRANS\"'\n",
    "}\n",
    "\n",
    "flightInfo = itcfs.get_flight_info(readClient, nb_data_request=DB2_Prod_data_request)\n",
    "\n",
    "data_df_2 = itcfs.read_pandas_and_concat(readClient, flightInfo)\n",
    "data_df_2.head(10)\n"
   ]
  },
  {
   "cell_type": "markdown",
   "metadata": {
    "id": "709429800dd54d83944d0018c62b99a6"
   },
   "source": [
    "## Switch Schema Names based on env var: for testing only"
   ]
  },
  {
   "cell_type": "code",
   "execution_count": null,
   "metadata": {
    "id": "e7a55b6ca93b44ffab461d00ac1df7fb"
   },
   "outputs": [],
   "source": [
    "import os\n",
    "\n",
    "# Comment out the set env code before scheduling it as a Job\n",
    "# Set schema name for testing this notebook interactively\n",
    "\n",
    "# Dev schema\n",
    "#os.environ['SCHEMA_NAME'] = 'JLD84201'\n",
    "# Prod schema\n",
    "#os.environ['SCHEMA_NAME'] = 'TVV29432'"
   ]
  },
  {
   "cell_type": "code",
   "execution_count": null,
   "metadata": {
    "id": "b3cf2ed9cf1e4d4ca2652a412ebd3a45"
   },
   "outputs": [],
   "source": [
    "%env"
   ]
  },
  {
   "cell_type": "code",
   "execution_count": null,
   "metadata": {
    "id": "68e9ad27d4e44d39926a12c802b1d795"
   },
   "outputs": [],
   "source": [
    "# Determine if this notebook needs to connect to a dev or a prod schema\n",
    "# Schema name will be set in a notebook job definition\n",
    "\n",
    "# Let's check if env variable was set\n",
    "schema_name=os.getenv('SCHEMA_NAME')\n",
    "\n",
    "# If it wasn't set, the default schema is dev\n",
    "if schema_name is None:\n",
    "  schema_name = 'JLD84201'\n",
    "\n",
    "print(\"Schema: \" + schema_name)"
   ]
  },
  {
   "cell_type": "code",
   "execution_count": null,
   "metadata": {
    "id": "b32c023b22ee4196a69cbf74dfb30f77"
   },
   "outputs": [],
   "source": [
    "type(schema_name)"
   ]
  },
  {
   "cell_type": "code",
   "execution_count": null,
   "metadata": {
    "id": "da5dcbb3ddbb4d92837c4bdf9316dc0e"
   },
   "outputs": [],
   "source": [
    "# Construct select string with schema_name variable\n",
    "sqlSelect = 'SELECT * FROM ' + '\"' + schema_name + '\".\"CUST_TRANS\"'\n",
    "print(sqlSelect)"
   ]
  },
  {
   "cell_type": "markdown",
   "metadata": {
    "id": "940bbbf2227240159bffbc4d09292636"
   },
   "source": [
    "## Switch data source names based on an env var: for testing only"
   ]
  },
  {
   "cell_type": "code",
   "execution_count": null,
   "metadata": {
    "id": "c2280209618a4f2a816965db9f082932"
   },
   "outputs": [],
   "source": [
    "import os\n",
    "\n",
    "# Comment out the set env code before scheduling it as a Job\n",
    "# Set schema name for testing this notebook interactively\n",
    "\n",
    "# Dev data source\n",
    "#os.environ['CONN'] = 'DEV'\n",
    "# Prod data source\n",
    "#os.environ['CONN'] = 'PROD'"
   ]
  },
  {
   "cell_type": "code",
   "execution_count": null,
   "metadata": {
    "id": "d67c99592fd84a3a8edf5aa812663785"
   },
   "outputs": [],
   "source": [
    "\n",
    "\n",
    "connType=os.getenv('CONN')\n",
    "print(connType)"
   ]
  },
  {
   "cell_type": "code",
   "execution_count": null,
   "metadata": {
    "id": "3ec89a531556461d807d750f2ed86656"
   },
   "outputs": [],
   "source": [
    "# Determine if this notebook needs to connect to a dev or a prod data source\n",
    "\n",
    "# If connection wasn't set, the default connection is dev\n",
    "if connType is None or connType == 'DEV' :\n",
    "  connName = 'DB2_Dev'\n",
    "  # For testing writing a file\n",
    "  fileSuffix = '_Dev.csv'\n",
    "elif connType == 'PROD':\n",
    "  connName = 'DB2_Prod'\n",
    "  fileSuffix = '_Prod.csv'\n",
    "else:\n",
    "  connName = 'DB2_Dev'\n",
    "  # For testing writing a file\n",
    "  fileSuffix = '_Dev.csv' \n",
    "  \n",
    "  \n",
    "print(\"Connection: \" + connName)\n",
    "print(\"Schema: \" + schema_name)"
   ]
  },
  {
   "cell_type": "code",
   "execution_count": null,
   "metadata": {
    "id": "fd85698fa4194259841bc5ebfe727838"
   },
   "outputs": [],
   "source": [
    "# Construct select string with schema_name variable\n",
    "sqlSelect = 'SELECT * FROM ' + '\"' + schema_name + '\".\"CUST_TRANS\"'\n",
    "print(sqlSelect)"
   ]
  },
  {
   "cell_type": "code",
   "execution_count": null,
   "metadata": {
    "id": "ec2a743cc6f24e5e8f52766338c3242f"
   },
   "outputs": [],
   "source": [
    "import itc_utils.flight_service as itcfs\n",
    "\n",
    "readClient = itcfs.get_flight_client()\n",
    "\n",
    "DB2_Prod_data_request = {\n",
    "    'connection_name': connName,\n",
    "    'select_statement': sqlSelect\n",
    "}\n",
    "\n",
    "flightInfo = itcfs.get_flight_info(readClient, nb_data_request=DB2_Prod_data_request)\n",
    "\n",
    "sampleData = itcfs.read_pandas_and_concat(readClient, flightInfo)\n",
    "sampleData.head(10)"
   ]
  },
  {
   "cell_type": "code",
   "execution_count": null,
   "metadata": {
    "id": "fe013f0bbeb049cc8a91872940434499"
   },
   "outputs": [],
   "source": [
    "# Write data frame to project - for testing\n",
    "\n",
    "# Import the lib\n",
    "from ibm_watson_studio_lib import access_project_or_space\n",
    "wslib = access_project_or_space()\n",
    "\n",
    "filename = \"SampleData\" + fileSuffix\n",
    "print(filename)"
   ]
  },
  {
   "cell_type": "code",
   "execution_count": null,
   "metadata": {
    "id": "2fea9c8b80284abdb18e2ad78dc56593"
   },
   "outputs": [],
   "source": [
    "# First, we need to write the file to working directory\n",
    "sampleData.to_csv(filename)\n",
    "\n",
    "# upload the intermediate file to your Watson Studio project\n",
    "wslib.upload_file(file_path=filename, asset_name=filename)"
   ]
  },
  {
   "cell_type": "markdown",
   "metadata": {
    "id": "f15016a1819a443b8ac8b72e5923e206"
   },
   "source": [
    "*Written by Elena Lowery*\n",
    "*May 2, 2022*"
   ]
  },
  {
   "cell_type": "code",
   "execution_count": null,
   "metadata": {
    "id": "a1928dc16d6f4cc78966e4d03a634637"
   },
   "outputs": [],
   "source": []
  }
 ],
 "metadata": {
  "kernelspec": {
   "display_name": "Python 3.9",
   "language": "python",
   "name": "python3"
  },
  "language_info": {
   "codemirror_mode": {
    "name": "ipython",
    "version": 3
   },
   "file_extension": ".py",
   "mimetype": "text/x-python",
   "name": "python",
   "nbconvert_exporter": "python",
   "pygments_lexer": "ipython3",
   "version": "3.9.7"
  }
 },
 "nbformat": 4,
 "nbformat_minor": 1
}
