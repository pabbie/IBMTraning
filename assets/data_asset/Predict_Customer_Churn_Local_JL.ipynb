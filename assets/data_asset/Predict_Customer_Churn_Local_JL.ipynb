{
 "cells": [
  {
   "cell_type": "markdown",
   "metadata": {
    "id": "5acf0c34-5472-4bd0-b2ac-5a2a7aeb59e2"
   },
   "source": [
    "### Predicting Customer Churn"
   ]
  },
  {
   "cell_type": "markdown",
   "metadata": {
    "id": "daa8cd58-109c-4dfa-a48e-3df7a7159a93"
   },
   "source": [
    "### Environment Setup"
   ]
  },
  {
   "cell_type": "code",
   "execution_count": 1,
   "metadata": {
    "id": "d98bea58-ffe6-4ee2-a09e-03655bd12bdc"
   },
   "outputs": [
    {
     "name": "stdout",
     "output_type": "stream",
     "text": [
      "Collecting sklearn-pandas\n",
      "  Downloading sklearn_pandas-2.2.0-py2.py3-none-any.whl (10 kB)\n",
      "Requirement already satisfied: numpy>=1.18.1 in c:\\programdata\\anaconda3\\lib\\site-packages (from sklearn-pandas) (1.19.2)\n",
      "Requirement already satisfied: scipy>=1.5.1 in c:\\programdata\\anaconda3\\lib\\site-packages (from sklearn-pandas) (1.5.2)\n",
      "Requirement already satisfied: scikit-learn>=0.23.0 in c:\\programdata\\anaconda3\\lib\\site-packages (from sklearn-pandas) (0.23.2)\n",
      "Collecting pandas>=1.1.4\n",
      "  Downloading pandas-1.4.2-cp38-cp38-win_amd64.whl (10.6 MB)\n",
      "Requirement already satisfied: threadpoolctl>=2.0.0 in c:\\programdata\\anaconda3\\lib\\site-packages (from scikit-learn>=0.23.0->sklearn-pandas) (2.1.0)\n",
      "Requirement already satisfied: joblib>=0.11 in c:\\programdata\\anaconda3\\lib\\site-packages (from scikit-learn>=0.23.0->sklearn-pandas) (0.17.0)\n",
      "Requirement already satisfied: python-dateutil>=2.8.1 in c:\\programdata\\anaconda3\\lib\\site-packages (from pandas>=1.1.4->sklearn-pandas) (2.8.1)\n",
      "Requirement already satisfied: pytz>=2020.1 in c:\\programdata\\anaconda3\\lib\\site-packages (from pandas>=1.1.4->sklearn-pandas) (2020.1)\n",
      "Requirement already satisfied: six>=1.5 in c:\\programdata\\anaconda3\\lib\\site-packages (from python-dateutil>=2.8.1->pandas>=1.1.4->sklearn-pandas) (1.15.0)\n",
      "Installing collected packages: pandas, sklearn-pandas\n",
      "  Attempting uninstall: pandas\n",
      "    Found existing installation: pandas 1.1.3\n",
      "    Uninstalling pandas-1.1.3:\n",
      "      Successfully uninstalled pandas-1.1.3\n",
      "Successfully installed pandas-1.4.2 sklearn-pandas-2.2.0\n"
     ]
    }
   ],
   "source": [
    "#Uncomment and run once to install the package in your runtime environment\n",
    "!pip install sklearn-pandas"
   ]
  },
  {
   "cell_type": "code",
   "execution_count": 3,
   "metadata": {
    "id": "b2daf929-eaea-4079-8357-638d8e7fc737"
   },
   "outputs": [],
   "source": [
    "import pandas as pd\n",
    "import numpy as np\n",
    "import sklearn.pipeline\n",
    "from sklearn.model_selection import train_test_split\n",
    "from sklearn.preprocessing import MinMaxScaler, LabelEncoder, StandardScaler, LabelBinarizer, OneHotEncoder\n",
    "from sklearn.ensemble import RandomForestClassifier\n",
    "from sklearn.metrics import f1_score, accuracy_score, roc_curve, roc_auc_score\n",
    "from sklearn_pandas import DataFrameMapper\n",
    "from sklearn.model_selection import GridSearchCV\n",
    "from sklearn.metrics import make_scorer\n",
    "import json\n",
    "import matplotlib.pyplot as plt\n",
    "import warnings\n",
    "warnings.filterwarnings(\"ignore\")\n",
    "\n",
    "%matplotlib inline\n"
   ]
  },
  {
   "cell_type": "markdown",
   "metadata": {
    "id": "bd2b6f93-3d53-4bc0-9d1f-da3f64283d43"
   },
   "source": [
    "### Step 1: Load data "
   ]
  },
  {
   "cell_type": "code",
   "execution_count": 5,
   "metadata": {
    "id": "9796508f905d443bb83e184834def282"
   },
   "outputs": [
    {
     "data": {
      "text/html": [
       "<div>\n",
       "<style scoped>\n",
       "    .dataframe tbody tr th:only-of-type {\n",
       "        vertical-align: middle;\n",
       "    }\n",
       "\n",
       "    .dataframe tbody tr th {\n",
       "        vertical-align: top;\n",
       "    }\n",
       "\n",
       "    .dataframe thead th {\n",
       "        text-align: right;\n",
       "    }\n",
       "</style>\n",
       "<table border=\"1\" class=\"dataframe\">\n",
       "  <thead>\n",
       "    <tr style=\"text-align: right;\">\n",
       "      <th></th>\n",
       "      <th>ID</th>\n",
       "      <th>CHURN</th>\n",
       "    </tr>\n",
       "  </thead>\n",
       "  <tbody>\n",
       "    <tr>\n",
       "      <th>0</th>\n",
       "      <td>6</td>\n",
       "      <td>F</td>\n",
       "    </tr>\n",
       "    <tr>\n",
       "      <th>1</th>\n",
       "      <td>11</td>\n",
       "      <td>F</td>\n",
       "    </tr>\n",
       "    <tr>\n",
       "      <th>2</th>\n",
       "      <td>22</td>\n",
       "      <td>F</td>\n",
       "    </tr>\n",
       "    <tr>\n",
       "      <th>3</th>\n",
       "      <td>23</td>\n",
       "      <td>F</td>\n",
       "    </tr>\n",
       "    <tr>\n",
       "      <th>4</th>\n",
       "      <td>35</td>\n",
       "      <td>T</td>\n",
       "    </tr>\n",
       "  </tbody>\n",
       "</table>\n",
       "</div>"
      ],
      "text/plain": [
       "   ID CHURN\n",
       "0   6     F\n",
       "1  11     F\n",
       "2  22     F\n",
       "3  23     F\n",
       "4  35     T"
      ]
     },
     "execution_count": 5,
     "metadata": {},
     "output_type": "execute_result"
    }
   ],
   "source": [
    "import pandas as pd\n",
    "\n",
    "customer_churn = pd.read_csv('churn.csv')\n",
    "customer_churn.head()\n"
   ]
  },
  {
   "cell_type": "code",
   "execution_count": 6,
   "metadata": {
    "id": "3400a52c02224586a9fd043316cbffb0"
   },
   "outputs": [
    {
     "data": {
      "text/html": [
       "<div>\n",
       "<style scoped>\n",
       "    .dataframe tbody tr th:only-of-type {\n",
       "        vertical-align: middle;\n",
       "    }\n",
       "\n",
       "    .dataframe tbody tr th {\n",
       "        vertical-align: top;\n",
       "    }\n",
       "\n",
       "    .dataframe thead th {\n",
       "        text-align: right;\n",
       "    }\n",
       "</style>\n",
       "<table border=\"1\" class=\"dataframe\">\n",
       "  <thead>\n",
       "    <tr style=\"text-align: right;\">\n",
       "      <th></th>\n",
       "      <th>ID</th>\n",
       "      <th>Gender</th>\n",
       "      <th>Status</th>\n",
       "      <th>Children</th>\n",
       "      <th>Est Income</th>\n",
       "      <th>Car Owner</th>\n",
       "      <th>Age</th>\n",
       "      <th>AvgMonthlySpend</th>\n",
       "      <th>CustomerSupportCalls</th>\n",
       "      <th>Paymethod</th>\n",
       "      <th>MembershipPlan</th>\n",
       "    </tr>\n",
       "  </thead>\n",
       "  <tbody>\n",
       "    <tr>\n",
       "      <th>0</th>\n",
       "      <td>11</td>\n",
       "      <td>M</td>\n",
       "      <td>S</td>\n",
       "      <td>2.0</td>\n",
       "      <td>96.33</td>\n",
       "      <td>N</td>\n",
       "      <td>56.473333</td>\n",
       "      <td>32.88</td>\n",
       "      <td>1.0</td>\n",
       "      <td>CC</td>\n",
       "      <td>1.0</td>\n",
       "    </tr>\n",
       "    <tr>\n",
       "      <th>1</th>\n",
       "      <td>14</td>\n",
       "      <td>F</td>\n",
       "      <td>M</td>\n",
       "      <td>2.0</td>\n",
       "      <td>52004.80</td>\n",
       "      <td>N</td>\n",
       "      <td>25.140000</td>\n",
       "      <td>23.11</td>\n",
       "      <td>0.0</td>\n",
       "      <td>CH</td>\n",
       "      <td>1.0</td>\n",
       "    </tr>\n",
       "    <tr>\n",
       "      <th>2</th>\n",
       "      <td>22</td>\n",
       "      <td>M</td>\n",
       "      <td>S</td>\n",
       "      <td>1.0</td>\n",
       "      <td>57626.90</td>\n",
       "      <td>Y</td>\n",
       "      <td>43.906667</td>\n",
       "      <td>38.96</td>\n",
       "      <td>0.0</td>\n",
       "      <td>CC</td>\n",
       "      <td>2.0</td>\n",
       "    </tr>\n",
       "    <tr>\n",
       "      <th>3</th>\n",
       "      <td>23</td>\n",
       "      <td>M</td>\n",
       "      <td>M</td>\n",
       "      <td>2.0</td>\n",
       "      <td>20078.00</td>\n",
       "      <td>N</td>\n",
       "      <td>32.846667</td>\n",
       "      <td>6.33</td>\n",
       "      <td>0.0</td>\n",
       "      <td>CC</td>\n",
       "      <td>4.0</td>\n",
       "    </tr>\n",
       "    <tr>\n",
       "      <th>4</th>\n",
       "      <td>35</td>\n",
       "      <td>F</td>\n",
       "      <td>S</td>\n",
       "      <td>0.0</td>\n",
       "      <td>78851.30</td>\n",
       "      <td>N</td>\n",
       "      <td>48.373333</td>\n",
       "      <td>28.66</td>\n",
       "      <td>0.0</td>\n",
       "      <td>CC</td>\n",
       "      <td>4.0</td>\n",
       "    </tr>\n",
       "  </tbody>\n",
       "</table>\n",
       "</div>"
      ],
      "text/plain": [
       "   ID Gender Status  Children  Est Income Car Owner        Age  \\\n",
       "0  11      M      S       2.0       96.33         N  56.473333   \n",
       "1  14      F      M       2.0    52004.80         N  25.140000   \n",
       "2  22      M      S       1.0    57626.90         Y  43.906667   \n",
       "3  23      M      M       2.0    20078.00         N  32.846667   \n",
       "4  35      F      S       0.0    78851.30         N  48.373333   \n",
       "\n",
       "   AvgMonthlySpend  CustomerSupportCalls Paymethod  MembershipPlan  \n",
       "0            32.88                   1.0        CC             1.0  \n",
       "1            23.11                   0.0        CH             1.0  \n",
       "2            38.96                   0.0        CC             2.0  \n",
       "3             6.33                   0.0        CC             4.0  \n",
       "4            28.66                   0.0        CC             4.0  "
      ]
     },
     "execution_count": 6,
     "metadata": {},
     "output_type": "execute_result"
    }
   ],
   "source": [
    "customer = pd.read_csv('customer-profile.csv')\n",
    "customer.head()"
   ]
  },
  {
   "cell_type": "code",
   "execution_count": 7,
   "metadata": {
    "id": "e2a2c2fa-b361-4db9-b393-2699f824c466"
   },
   "outputs": [
    {
     "data": {
      "text/html": [
       "<div>\n",
       "<style scoped>\n",
       "    .dataframe tbody tr th:only-of-type {\n",
       "        vertical-align: middle;\n",
       "    }\n",
       "\n",
       "    .dataframe tbody tr th {\n",
       "        vertical-align: top;\n",
       "    }\n",
       "\n",
       "    .dataframe thead th {\n",
       "        text-align: right;\n",
       "    }\n",
       "</style>\n",
       "<table border=\"1\" class=\"dataframe\">\n",
       "  <thead>\n",
       "    <tr style=\"text-align: right;\">\n",
       "      <th></th>\n",
       "      <th>ID</th>\n",
       "      <th>Gender</th>\n",
       "      <th>Status</th>\n",
       "      <th>Children</th>\n",
       "      <th>Est Income</th>\n",
       "      <th>Car Owner</th>\n",
       "      <th>Age</th>\n",
       "      <th>AvgMonthlySpend</th>\n",
       "      <th>CustomerSupportCalls</th>\n",
       "      <th>Paymethod</th>\n",
       "      <th>MembershipPlan</th>\n",
       "    </tr>\n",
       "  </thead>\n",
       "  <tbody>\n",
       "    <tr>\n",
       "      <th>0</th>\n",
       "      <td>11</td>\n",
       "      <td>M</td>\n",
       "      <td>S</td>\n",
       "      <td>2.0</td>\n",
       "      <td>96.33</td>\n",
       "      <td>N</td>\n",
       "      <td>56.473333</td>\n",
       "      <td>32.88</td>\n",
       "      <td>1.0</td>\n",
       "      <td>CC</td>\n",
       "      <td>1.0</td>\n",
       "    </tr>\n",
       "    <tr>\n",
       "      <th>1</th>\n",
       "      <td>14</td>\n",
       "      <td>F</td>\n",
       "      <td>M</td>\n",
       "      <td>2.0</td>\n",
       "      <td>52004.80</td>\n",
       "      <td>N</td>\n",
       "      <td>25.140000</td>\n",
       "      <td>23.11</td>\n",
       "      <td>0.0</td>\n",
       "      <td>CH</td>\n",
       "      <td>1.0</td>\n",
       "    </tr>\n",
       "    <tr>\n",
       "      <th>2</th>\n",
       "      <td>22</td>\n",
       "      <td>M</td>\n",
       "      <td>S</td>\n",
       "      <td>1.0</td>\n",
       "      <td>57626.90</td>\n",
       "      <td>Y</td>\n",
       "      <td>43.906667</td>\n",
       "      <td>38.96</td>\n",
       "      <td>0.0</td>\n",
       "      <td>CC</td>\n",
       "      <td>2.0</td>\n",
       "    </tr>\n",
       "    <tr>\n",
       "      <th>3</th>\n",
       "      <td>23</td>\n",
       "      <td>M</td>\n",
       "      <td>M</td>\n",
       "      <td>2.0</td>\n",
       "      <td>20078.00</td>\n",
       "      <td>N</td>\n",
       "      <td>32.846667</td>\n",
       "      <td>6.33</td>\n",
       "      <td>0.0</td>\n",
       "      <td>CC</td>\n",
       "      <td>4.0</td>\n",
       "    </tr>\n",
       "    <tr>\n",
       "      <th>4</th>\n",
       "      <td>35</td>\n",
       "      <td>F</td>\n",
       "      <td>S</td>\n",
       "      <td>0.0</td>\n",
       "      <td>78851.30</td>\n",
       "      <td>N</td>\n",
       "      <td>48.373333</td>\n",
       "      <td>28.66</td>\n",
       "      <td>0.0</td>\n",
       "      <td>CC</td>\n",
       "      <td>4.0</td>\n",
       "    </tr>\n",
       "  </tbody>\n",
       "</table>\n",
       "</div>"
      ],
      "text/plain": [
       "   ID Gender Status  Children  Est Income Car Owner        Age  \\\n",
       "0  11      M      S       2.0       96.33         N  56.473333   \n",
       "1  14      F      M       2.0    52004.80         N  25.140000   \n",
       "2  22      M      S       1.0    57626.90         Y  43.906667   \n",
       "3  23      M      M       2.0    20078.00         N  32.846667   \n",
       "4  35      F      S       0.0    78851.30         N  48.373333   \n",
       "\n",
       "   AvgMonthlySpend  CustomerSupportCalls Paymethod  MembershipPlan  \n",
       "0            32.88                   1.0        CC             1.0  \n",
       "1            23.11                   0.0        CH             1.0  \n",
       "2            38.96                   0.0        CC             2.0  \n",
       "3             6.33                   0.0        CC             4.0  \n",
       "4            28.66                   0.0        CC             4.0  "
      ]
     },
     "execution_count": 7,
     "metadata": {},
     "output_type": "execute_result"
    }
   ],
   "source": [
    "customer = pd.read_csv('customer-profile.csv')\n",
    "customer.head()"
   ]
  },
  {
   "cell_type": "markdown",
   "metadata": {
    "id": "8a4a1745-d743-4a08-a86a-1bfd6d5bc94d"
   },
   "source": [
    "### Step 2: Merge Files"
   ]
  },
  {
   "cell_type": "code",
   "execution_count": 8,
   "metadata": {
    "id": "c7595a2a-8091-4181-af59-d644d6c35e65"
   },
   "outputs": [],
   "source": [
    "data = pd.merge(customer, customer_churn, on='ID')"
   ]
  },
  {
   "cell_type": "markdown",
   "metadata": {
    "id": "9f429e93-3f3c-4075-990a-416fe2f7869c"
   },
   "source": [
    "### Step 3: Rename some columns\n",
    "This step is to remove spaces from columns names, it's an example of data preparation that you may want to do before creating a model. "
   ]
  },
  {
   "cell_type": "code",
   "execution_count": 9,
   "metadata": {
    "id": "50d7b359-8267-4a82-ad38-83e4e86c3b74"
   },
   "outputs": [
    {
     "data": {
      "text/plain": [
       "Index(['ID', 'Gender', 'Status', 'Children', 'Est Income', 'Car Owner', 'Age',\n",
       "       'AvgMonthlySpend', 'CustomerSupportCalls', 'Paymethod',\n",
       "       'MembershipPlan', 'CHURN'],\n",
       "      dtype='object')"
      ]
     },
     "execution_count": 9,
     "metadata": {},
     "output_type": "execute_result"
    }
   ],
   "source": [
    "data.columns"
   ]
  },
  {
   "cell_type": "code",
   "execution_count": 10,
   "metadata": {
    "id": "6275f43c-5393-429f-9d98-d8245382e337"
   },
   "outputs": [],
   "source": [
    "data.rename(columns={'Est Income':'EstIncome', 'Car Owner':'CarOwner' }, inplace=True)"
   ]
  },
  {
   "cell_type": "code",
   "execution_count": 11,
   "metadata": {
    "id": "374a042c-2ed0-4276-9feb-b2b02aa534cd"
   },
   "outputs": [
    {
     "data": {
      "text/html": [
       "<div>\n",
       "<style scoped>\n",
       "    .dataframe tbody tr th:only-of-type {\n",
       "        vertical-align: middle;\n",
       "    }\n",
       "\n",
       "    .dataframe tbody tr th {\n",
       "        vertical-align: top;\n",
       "    }\n",
       "\n",
       "    .dataframe thead th {\n",
       "        text-align: right;\n",
       "    }\n",
       "</style>\n",
       "<table border=\"1\" class=\"dataframe\">\n",
       "  <thead>\n",
       "    <tr style=\"text-align: right;\">\n",
       "      <th></th>\n",
       "      <th>ID</th>\n",
       "      <th>Gender</th>\n",
       "      <th>Status</th>\n",
       "      <th>Children</th>\n",
       "      <th>EstIncome</th>\n",
       "      <th>CarOwner</th>\n",
       "      <th>Age</th>\n",
       "      <th>AvgMonthlySpend</th>\n",
       "      <th>CustomerSupportCalls</th>\n",
       "      <th>Paymethod</th>\n",
       "      <th>MembershipPlan</th>\n",
       "      <th>CHURN</th>\n",
       "    </tr>\n",
       "  </thead>\n",
       "  <tbody>\n",
       "    <tr>\n",
       "      <th>0</th>\n",
       "      <td>11</td>\n",
       "      <td>M</td>\n",
       "      <td>S</td>\n",
       "      <td>2.0</td>\n",
       "      <td>96.33</td>\n",
       "      <td>N</td>\n",
       "      <td>56.473333</td>\n",
       "      <td>32.88</td>\n",
       "      <td>1.0</td>\n",
       "      <td>CC</td>\n",
       "      <td>1.0</td>\n",
       "      <td>F</td>\n",
       "    </tr>\n",
       "    <tr>\n",
       "      <th>1</th>\n",
       "      <td>22</td>\n",
       "      <td>M</td>\n",
       "      <td>S</td>\n",
       "      <td>1.0</td>\n",
       "      <td>57626.90</td>\n",
       "      <td>Y</td>\n",
       "      <td>43.906667</td>\n",
       "      <td>38.96</td>\n",
       "      <td>0.0</td>\n",
       "      <td>CC</td>\n",
       "      <td>2.0</td>\n",
       "      <td>F</td>\n",
       "    </tr>\n",
       "    <tr>\n",
       "      <th>2</th>\n",
       "      <td>23</td>\n",
       "      <td>M</td>\n",
       "      <td>M</td>\n",
       "      <td>2.0</td>\n",
       "      <td>20078.00</td>\n",
       "      <td>N</td>\n",
       "      <td>32.846667</td>\n",
       "      <td>6.33</td>\n",
       "      <td>0.0</td>\n",
       "      <td>CC</td>\n",
       "      <td>4.0</td>\n",
       "      <td>F</td>\n",
       "    </tr>\n",
       "    <tr>\n",
       "      <th>3</th>\n",
       "      <td>35</td>\n",
       "      <td>F</td>\n",
       "      <td>S</td>\n",
       "      <td>0.0</td>\n",
       "      <td>78851.30</td>\n",
       "      <td>N</td>\n",
       "      <td>48.373333</td>\n",
       "      <td>28.66</td>\n",
       "      <td>0.0</td>\n",
       "      <td>CC</td>\n",
       "      <td>4.0</td>\n",
       "      <td>T</td>\n",
       "    </tr>\n",
       "    <tr>\n",
       "      <th>4</th>\n",
       "      <td>36</td>\n",
       "      <td>F</td>\n",
       "      <td>S</td>\n",
       "      <td>1.0</td>\n",
       "      <td>17540.70</td>\n",
       "      <td>Y</td>\n",
       "      <td>62.786667</td>\n",
       "      <td>13.45</td>\n",
       "      <td>0.0</td>\n",
       "      <td>Auto</td>\n",
       "      <td>4.0</td>\n",
       "      <td>T</td>\n",
       "    </tr>\n",
       "  </tbody>\n",
       "</table>\n",
       "</div>"
      ],
      "text/plain": [
       "   ID Gender Status  Children  EstIncome CarOwner        Age  AvgMonthlySpend  \\\n",
       "0  11      M      S       2.0      96.33        N  56.473333            32.88   \n",
       "1  22      M      S       1.0   57626.90        Y  43.906667            38.96   \n",
       "2  23      M      M       2.0   20078.00        N  32.846667             6.33   \n",
       "3  35      F      S       0.0   78851.30        N  48.373333            28.66   \n",
       "4  36      F      S       1.0   17540.70        Y  62.786667            13.45   \n",
       "\n",
       "   CustomerSupportCalls Paymethod  MembershipPlan CHURN  \n",
       "0                   1.0        CC             1.0     F  \n",
       "1                   0.0        CC             2.0     F  \n",
       "2                   0.0        CC             4.0     F  \n",
       "3                   0.0        CC             4.0     T  \n",
       "4                   0.0      Auto             4.0     T  "
      ]
     },
     "execution_count": 11,
     "metadata": {},
     "output_type": "execute_result"
    }
   ],
   "source": [
    "data.head()"
   ]
  },
  {
   "cell_type": "code",
   "execution_count": 12,
   "metadata": {
    "id": "a6df84ae-4f75-442a-9dee-243c00dc9fb7",
    "scrolled": true
   },
   "outputs": [
    {
     "data": {
      "text/plain": [
       "(785, 12)"
      ]
     },
     "execution_count": 12,
     "metadata": {},
     "output_type": "execute_result"
    }
   ],
   "source": [
    "data.shape"
   ]
  },
  {
   "cell_type": "markdown",
   "metadata": {
    "id": "b1523415-c2d3-47fb-9a82-2bd547bde920"
   },
   "source": [
    "### Step 4: Data understanding"
   ]
  },
  {
   "cell_type": "code",
   "execution_count": 13,
   "metadata": {
    "id": "46813b72-e473-423d-b737-721d86dcf233",
    "scrolled": true
   },
   "outputs": [
    {
     "data": {
      "text/html": [
       "<div>\n",
       "<style scoped>\n",
       "    .dataframe tbody tr th:only-of-type {\n",
       "        vertical-align: middle;\n",
       "    }\n",
       "\n",
       "    .dataframe tbody tr th {\n",
       "        vertical-align: top;\n",
       "    }\n",
       "\n",
       "    .dataframe thead th {\n",
       "        text-align: right;\n",
       "    }\n",
       "</style>\n",
       "<table border=\"1\" class=\"dataframe\">\n",
       "  <thead>\n",
       "    <tr style=\"text-align: right;\">\n",
       "      <th></th>\n",
       "      <th>ID</th>\n",
       "      <th>Children</th>\n",
       "      <th>EstIncome</th>\n",
       "      <th>Age</th>\n",
       "      <th>AvgMonthlySpend</th>\n",
       "      <th>CustomerSupportCalls</th>\n",
       "      <th>MembershipPlan</th>\n",
       "    </tr>\n",
       "  </thead>\n",
       "  <tbody>\n",
       "    <tr>\n",
       "      <th>count</th>\n",
       "      <td>785.000000</td>\n",
       "      <td>785.000000</td>\n",
       "      <td>785.000000</td>\n",
       "      <td>785.000000</td>\n",
       "      <td>785.000000</td>\n",
       "      <td>785.000000</td>\n",
       "      <td>785.000000</td>\n",
       "    </tr>\n",
       "    <tr>\n",
       "      <th>mean</th>\n",
       "      <td>1962.872611</td>\n",
       "      <td>1.131210</td>\n",
       "      <td>49411.709108</td>\n",
       "      <td>42.062616</td>\n",
       "      <td>59.886841</td>\n",
       "      <td>0.114650</td>\n",
       "      <td>2.508280</td>\n",
       "    </tr>\n",
       "    <tr>\n",
       "      <th>std</th>\n",
       "      <td>1090.896925</td>\n",
       "      <td>0.831066</td>\n",
       "      <td>30976.276910</td>\n",
       "      <td>15.226786</td>\n",
       "      <td>57.342251</td>\n",
       "      <td>0.456922</td>\n",
       "      <td>1.157383</td>\n",
       "    </tr>\n",
       "    <tr>\n",
       "      <th>min</th>\n",
       "      <td>11.000000</td>\n",
       "      <td>0.000000</td>\n",
       "      <td>96.330000</td>\n",
       "      <td>12.326667</td>\n",
       "      <td>0.790000</td>\n",
       "      <td>0.000000</td>\n",
       "      <td>1.000000</td>\n",
       "    </tr>\n",
       "    <tr>\n",
       "      <th>25%</th>\n",
       "      <td>1046.000000</td>\n",
       "      <td>0.000000</td>\n",
       "      <td>19749.300000</td>\n",
       "      <td>27.746667</td>\n",
       "      <td>14.380000</td>\n",
       "      <td>0.000000</td>\n",
       "      <td>1.000000</td>\n",
       "    </tr>\n",
       "    <tr>\n",
       "      <th>50%</th>\n",
       "      <td>1982.000000</td>\n",
       "      <td>1.000000</td>\n",
       "      <td>49910.700000</td>\n",
       "      <td>45.360000</td>\n",
       "      <td>39.620000</td>\n",
       "      <td>0.000000</td>\n",
       "      <td>2.000000</td>\n",
       "    </tr>\n",
       "    <tr>\n",
       "      <th>75%</th>\n",
       "      <td>2871.000000</td>\n",
       "      <td>2.000000</td>\n",
       "      <td>76161.400000</td>\n",
       "      <td>54.013333</td>\n",
       "      <td>87.880000</td>\n",
       "      <td>0.000000</td>\n",
       "      <td>4.000000</td>\n",
       "    </tr>\n",
       "    <tr>\n",
       "      <th>max</th>\n",
       "      <td>3824.000000</td>\n",
       "      <td>2.000000</td>\n",
       "      <td>120000.000000</td>\n",
       "      <td>77.000000</td>\n",
       "      <td>332.460000</td>\n",
       "      <td>4.000000</td>\n",
       "      <td>4.000000</td>\n",
       "    </tr>\n",
       "  </tbody>\n",
       "</table>\n",
       "</div>"
      ],
      "text/plain": [
       "                ID    Children      EstIncome         Age  AvgMonthlySpend  \\\n",
       "count   785.000000  785.000000     785.000000  785.000000       785.000000   \n",
       "mean   1962.872611    1.131210   49411.709108   42.062616        59.886841   \n",
       "std    1090.896925    0.831066   30976.276910   15.226786        57.342251   \n",
       "min      11.000000    0.000000      96.330000   12.326667         0.790000   \n",
       "25%    1046.000000    0.000000   19749.300000   27.746667        14.380000   \n",
       "50%    1982.000000    1.000000   49910.700000   45.360000        39.620000   \n",
       "75%    2871.000000    2.000000   76161.400000   54.013333        87.880000   \n",
       "max    3824.000000    2.000000  120000.000000   77.000000       332.460000   \n",
       "\n",
       "       CustomerSupportCalls  MembershipPlan  \n",
       "count            785.000000      785.000000  \n",
       "mean               0.114650        2.508280  \n",
       "std                0.456922        1.157383  \n",
       "min                0.000000        1.000000  \n",
       "25%                0.000000        1.000000  \n",
       "50%                0.000000        2.000000  \n",
       "75%                0.000000        4.000000  \n",
       "max                4.000000        4.000000  "
      ]
     },
     "execution_count": 13,
     "metadata": {},
     "output_type": "execute_result"
    }
   ],
   "source": [
    "data.describe()"
   ]
  },
  {
   "cell_type": "code",
   "execution_count": 14,
   "metadata": {
    "id": "e0446278-a6d4-4bad-9ac9-69ac498159bd"
   },
   "outputs": [],
   "source": [
    "# Uncomment if you would like to see the profile report\n",
    "\n",
    "#Uncomment and run once to install the package in your runtime environment\n",
    "#!pip install https://github.com/pandas-profiling/pandas-profiling/archive/master.zip"
   ]
  },
  {
   "cell_type": "code",
   "execution_count": 15,
   "metadata": {
    "id": "fe284a664c9b43038bd5598753d47d6e"
   },
   "outputs": [],
   "source": [
    "# Uncomment if you would like to see the profile report\n",
    "#from pandas_profiling import ProfileReport\n",
    "    \n",
    "#profile = ProfileReport(data, title=\"Data Profiling Report\")\n",
    "#profile.to_widgets()"
   ]
  },
  {
   "cell_type": "markdown",
   "metadata": {
    "id": "5ea7f08e-707d-425d-9592-55025fca2749"
   },
   "source": [
    "### Step 5: Build the sklearn pipeline and the Random Forest model\n"
   ]
  },
  {
   "cell_type": "code",
   "execution_count": 16,
   "metadata": {
    "id": "0323b9a8-81d8-4c01-b013-56c0fffe7922"
   },
   "outputs": [],
   "source": [
    "# Define input data to the model\n",
    "X = data.drop(['ID','CHURN'], axis=1)"
   ]
  },
  {
   "cell_type": "code",
   "execution_count": 17,
   "metadata": {
    "id": "a4cc6b30-ccfd-4cc1-beba-87e21d396d3d"
   },
   "outputs": [],
   "source": [
    "# Define the target variable and encode with value between 0 and n_classes-1, that is from T/F to 1/0\n",
    "le = LabelEncoder()\n",
    "y = le.fit_transform(data['CHURN'])"
   ]
  },
  {
   "cell_type": "code",
   "execution_count": 18,
   "metadata": {
    "id": "3d551ca4-1bff-459b-8c6e-656f8c1971de"
   },
   "outputs": [
    {
     "name": "stdout",
     "output_type": "stream",
     "text": [
      "0:  F\n",
      "1:  T\n"
     ]
    }
   ],
   "source": [
    "label_mapping=le.inverse_transform([0,1])\n",
    "print('0: ', label_mapping[0])\n",
    "print('1: ', label_mapping[1])"
   ]
  },
  {
   "cell_type": "code",
   "execution_count": 19,
   "metadata": {
    "id": "f9cacfb9-5dec-48be-9d7c-a86a31963973"
   },
   "outputs": [],
   "source": [
    "# split the data to training and testing set\n",
    "X_train, X_test, y_train, y_test = train_test_split(X, y, test_size=0.3, random_state=5)"
   ]
  },
  {
   "cell_type": "markdown",
   "metadata": {
    "id": "d54e72a7-5b50-4843-8d95-79b6f713e761"
   },
   "source": [
    "#### Use the DataFrameMapper class to declare transformations and variable imputations.\n",
    "\n",
    "* LabelBinarizer - Converts a categorical variable into a dummy variable (aka binary variable)\n",
    "* StandardScaler - Standardize features by removing the mean and scaling to unit variance, z = (x - u) / s\n",
    "\n",
    "See docs: \n",
    "* https://github.com/scikit-learn-contrib/sklearn-pandas\n",
    "* https://scikit-learn.org/stable/modules/generated/sklearn.preprocessing.StandardScaler.html#sklearn.preprocessing.StandardScaler\n",
    "* https://scikit-learn.org/stable/modules/generated/sklearn.preprocessing.LabelBinarizer.html#sklearn.preprocessing.LabelBinarizer\n",
    "* https://scikit-learn.org/stable/modules/generated/sklearn.pipeline.Pipeline.html"
   ]
  },
  {
   "cell_type": "code",
   "execution_count": 20,
   "metadata": {
    "id": "f4f15ad7-5688-46ec-9582-9dfb874fe45c"
   },
   "outputs": [],
   "source": [
    "\n",
    "mapper_good = DataFrameMapper([\n",
    "    (['Gender'], LabelBinarizer()),\n",
    "    (['Status'], LabelBinarizer()),\n",
    "    (['CarOwner'], LabelBinarizer()),\n",
    "    (['Paymethod'], LabelBinarizer()),\n",
    "    (['MembershipPlan'], LabelBinarizer()),\n",
    "    (['Children'],  StandardScaler()),\n",
    "    (['EstIncome'],  StandardScaler()),\n",
    "    (['Age'],  StandardScaler()),\n",
    "    (['AvgMonthlySpend'],  StandardScaler()),\n",
    "    (['CustomerSupportCalls'],  StandardScaler())], default=False)\n"
   ]
  },
  {
   "cell_type": "code",
   "execution_count": 21,
   "metadata": {
    "id": "ec338d09-232c-4da7-b019-45f44e9b3cdf"
   },
   "outputs": [
    {
     "data": {
      "text/plain": [
       "Pipeline(steps=[('mapper',\n",
       "                 DataFrameMapper(drop_cols=[],\n",
       "                                 features=[(['Gender'], LabelBinarizer()),\n",
       "                                           (['Status'], LabelBinarizer()),\n",
       "                                           (['CarOwner'], LabelBinarizer()),\n",
       "                                           (['Paymethod'], LabelBinarizer()),\n",
       "                                           (['MembershipPlan'],\n",
       "                                            LabelBinarizer()),\n",
       "                                           (['Children'], StandardScaler()),\n",
       "                                           (['EstIncome'], StandardScaler()),\n",
       "                                           (['Age'], StandardScaler()),\n",
       "                                           (['AvgMonthlySpend'],\n",
       "                                            StandardScaler()),\n",
       "                                           (['CustomerSupportCalls'],\n",
       "                                            StandardScaler())])),\n",
       "                ('RandonForestClassifier',\n",
       "                 RandomForestClassifier(random_state=5))])"
      ]
     },
     "execution_count": 21,
     "metadata": {},
     "output_type": "execute_result"
    }
   ],
   "source": [
    "# Instantiate the Classifier\n",
    "random_forest = RandomForestClassifier(random_state=5)\n",
    "\n",
    "# Define the steps in the pipeline to sequentially apply a list of transforms and the estimator, i.e. RandomForestClassifier\n",
    "steps = [('mapper', mapper_good),('RandonForestClassifier', random_forest)]\n",
    "pipeline = sklearn.pipeline.Pipeline(steps)\n",
    "\n",
    "# train the model\n",
    "model=pipeline.fit( X_train, y_train )\n",
    "\n",
    "model"
   ]
  },
  {
   "cell_type": "code",
   "execution_count": 22,
   "metadata": {
    "id": "1460a16a-7ca9-4846-b2ca-57b00aa7c562"
   },
   "outputs": [
    {
     "name": "stdout",
     "output_type": "stream",
     "text": [
      "0:  F\n",
      "1:  T\n"
     ]
    }
   ],
   "source": [
    "# Display Label Mapping to assist with interpretation of the model\n",
    "label_mapping=le.inverse_transform([0,1])\n",
    "print('0: ', label_mapping[0])\n",
    "print('1: ', label_mapping[1])"
   ]
  },
  {
   "cell_type": "code",
   "execution_count": 23,
   "metadata": {
    "id": "3bad804d-9271-49e1-b274-d77984eb2742"
   },
   "outputs": [
    {
     "name": "stdout",
     "output_type": "stream",
     "text": [
      "              precision    recall  f1-score   support\n",
      "\n",
      "           0       0.73      0.81      0.77       127\n",
      "           1       0.74      0.64      0.69       109\n",
      "\n",
      "    accuracy                           0.73       236\n",
      "   macro avg       0.74      0.73      0.73       236\n",
      "weighted avg       0.73      0.73      0.73       236\n",
      "\n"
     ]
    }
   ],
   "source": [
    "### call pipeline.predict() on your X_test data to make a set of test predictions\n",
    "y_prediction = pipeline.predict( X_test )\n",
    "\n",
    "### test your predictions using sklearn.classification_report()\n",
    "report = sklearn.metrics.classification_report( y_test, y_prediction )\n",
    "\n",
    "### and print the report\n",
    "print(report)"
   ]
  },
  {
   "cell_type": "markdown",
   "metadata": {
    "id": "46612efe-53cb-465e-bac9-8f9d4f3b2002"
   },
   "source": [
    "###  Step 6:  Tune the model to find the best model"
   ]
  },
  {
   "cell_type": "code",
   "execution_count": 24,
   "metadata": {
    "id": "fdc8a16d-1de9-4983-bfe3-1dbe638ded3d"
   },
   "outputs": [],
   "source": [
    "# List keys to the model param to tune\n",
    "#model.get_params().keys()"
   ]
  },
  {
   "cell_type": "code",
   "execution_count": 25,
   "metadata": {
    "id": "61e191c5-293b-49e5-af1e-dd64dba72cb5"
   },
   "outputs": [],
   "source": [
    "parameters = { 'RandonForestClassifier__max_depth': [5,8,10],\n",
    "               'RandonForestClassifier__n_estimators': [150,180,200]}"
   ]
  },
  {
   "cell_type": "code",
   "execution_count": 26,
   "metadata": {
    "id": "a9a6432f-cdcb-49e8-8d49-dfccf9780b26"
   },
   "outputs": [],
   "source": [
    "grid_obj = GridSearchCV(estimator=model, param_grid=parameters,  cv=3)"
   ]
  },
  {
   "cell_type": "code",
   "execution_count": 27,
   "metadata": {
    "id": "23c7bf96-178b-47a2-a6fb-6a48a7bab625"
   },
   "outputs": [],
   "source": [
    "# TODO: Fit the grid search object to the training data and find the optimal parameters using fit()\n",
    "grid_fit = grid_obj.fit(X_train,y_train)\n"
   ]
  },
  {
   "cell_type": "code",
   "execution_count": 28,
   "metadata": {
    "id": "20815230-7c38-41ea-811a-c2de8adaace5"
   },
   "outputs": [],
   "source": [
    "# Get the estimator\n",
    "best_clf = grid_fit.best_estimator_"
   ]
  },
  {
   "cell_type": "code",
   "execution_count": 29,
   "metadata": {
    "id": "f19e4edc-522e-47db-8488-87856eb53250"
   },
   "outputs": [],
   "source": [
    "best_predictions = best_clf.predict(X_test)"
   ]
  },
  {
   "cell_type": "code",
   "execution_count": 30,
   "metadata": {
    "id": "865bba0b-75e4-44d1-b9a8-1e4cbf905b64"
   },
   "outputs": [],
   "source": [
    "best_predictions_report = sklearn.metrics.classification_report( y_test, best_predictions )"
   ]
  },
  {
   "cell_type": "code",
   "execution_count": 31,
   "metadata": {
    "id": "b3e805c0-14e9-43ea-91fd-b7436e2513ac"
   },
   "outputs": [
    {
     "name": "stdout",
     "output_type": "stream",
     "text": [
      "Results of best fitted model: \n",
      "\n",
      "               precision    recall  f1-score   support\n",
      "\n",
      "           0       0.74      0.83      0.78       127\n",
      "           1       0.77      0.65      0.71       109\n",
      "\n",
      "    accuracy                           0.75       236\n",
      "   macro avg       0.75      0.74      0.74       236\n",
      "weighted avg       0.75      0.75      0.75       236\n",
      "\n"
     ]
    }
   ],
   "source": [
    "print('Results of best fitted model: \\n\\n',best_predictions_report)"
   ]
  },
  {
   "cell_type": "code",
   "execution_count": 32,
   "metadata": {
    "id": "e4118274-0238-41ad-b09c-bae84635e70f"
   },
   "outputs": [
    {
     "name": "stdout",
     "output_type": "stream",
     "text": [
      "Results of default model: \n",
      "\n",
      "               precision    recall  f1-score   support\n",
      "\n",
      "           0       0.73      0.81      0.77       127\n",
      "           1       0.74      0.64      0.69       109\n",
      "\n",
      "    accuracy                           0.73       236\n",
      "   macro avg       0.74      0.73      0.73       236\n",
      "weighted avg       0.73      0.73      0.73       236\n",
      "\n"
     ]
    }
   ],
   "source": [
    "print('Results of default model: \\n\\n',report)"
   ]
  },
  {
   "cell_type": "code",
   "execution_count": 33,
   "metadata": {
    "id": "aa75bcd2-161f-4432-9292-7ef1a9669d0e"
   },
   "outputs": [],
   "source": [
    "m_step=pipeline.named_steps['mapper']"
   ]
  },
  {
   "cell_type": "code",
   "execution_count": 34,
   "metadata": {
    "id": "7480eeef-6d18-4339-962d-3224933bc2f4"
   },
   "outputs": [
    {
     "data": {
      "text/plain": [
       "['Gender',\n",
       " 'Status_D',\n",
       " 'Status_M',\n",
       " 'Status_S',\n",
       " 'CarOwner',\n",
       " 'Paymethod_Auto',\n",
       " 'Paymethod_CC',\n",
       " 'Paymethod_CH',\n",
       " 'MembershipPlan_1.0',\n",
       " 'MembershipPlan_2.0',\n",
       " 'MembershipPlan_3.0',\n",
       " 'MembershipPlan_4.0',\n",
       " 'Children',\n",
       " 'EstIncome',\n",
       " 'Age',\n",
       " 'AvgMonthlySpend',\n",
       " 'CustomerSupportCalls']"
      ]
     },
     "execution_count": 34,
     "metadata": {},
     "output_type": "execute_result"
    }
   ],
   "source": [
    "m_step.transformed_names_"
   ]
  },
  {
   "cell_type": "code",
   "execution_count": 35,
   "metadata": {
    "id": "d2b7baae-b1e6-4e3e-ac3c-39e6d22637bb"
   },
   "outputs": [],
   "source": [
    "features = m_step.transformed_names_"
   ]
  },
  {
   "cell_type": "code",
   "execution_count": 36,
   "metadata": {
    "id": "457101a8-04be-4153-bb47-ab228a64ac93"
   },
   "outputs": [],
   "source": [
    "# Get the features importance\n",
    "importances = pipeline.named_steps['RandonForestClassifier'][1].feature_importances_\n",
    "indices = np.argsort(importances)"
   ]
  },
  {
   "cell_type": "code",
   "execution_count": 37,
   "metadata": {
    "id": "1ac1593d-3334-423a-8ec1-8ad817a68065"
   },
   "outputs": [
    {
     "data": {
      "text/plain": [
       "Text(0.5, 0, 'Relative Importance')"
      ]
     },
     "execution_count": 37,
     "metadata": {},
     "output_type": "execute_result"
    },
    {
     "data": {
      "image/png": "[encoded data removed]",
      "text/plain": [
       "<Figure size 432x288 with 1 Axes>"
      ]
     },
     "metadata": {
      "needs_background": "light"
     },
     "output_type": "display_data"
    }
   ],
   "source": [
    "plt.figure(1)\n",
    "plt.title('Feature Importances')\n",
    "plt.barh(range(len(indices)), importances[indices], color='b',align='center')\n",
    "plt.yticks(range(len(indices)), (np.array(features))[indices])\n",
    "plt.xlabel('Relative Importance')"
   ]
  },
  {
   "cell_type": "markdown",
   "metadata": {
    "id": "04480eefb6c945bd83bc9b751749a552"
   },
   "source": [
    "### Step 7: Save the Model file\n",
    "*In this notebook we demontrate how to save the model to the project (it will be displayed under Data Assets). You can also save the model file to any storage type - Storage Volume (shared file system), Git, Object Storage, etc.*"
   ]
  },
  {
   "cell_type": "code",
   "execution_count": 43,
   "metadata": {
    "id": "51f4f4ea71014d1da200b1deed49b735"
   },
   "outputs": [],
   "source": [
    "import pickle\n",
    "# Save the model to working directory. Pickle is one of the most frequently used options for saving Python models, but you can also use other approaches to save the model file. \n",
    "\n",
    "# Modify model name to make it easier to distinguish between the model saved with WML and regular save file.\n",
    "model_name = 'model_trained_externally'\n",
    "pickle.dump(model, open(model_name, 'wb'))"
   ]
  },
  {
   "cell_type": "markdown",
   "metadata": {
    "id": "0f060ce39ac7499f8103ce020295e1e6"
   },
   "source": [
    "**After running this cell, you should see the model in your JupyterLab working directory. Upload this model file to Watson Studio. "
   ]
  },
  {
   "cell_type": "markdown",
   "metadata": {
    "id": "ed632712-e8b0-49db-a369-200307e34ab9"
   },
   "source": [
    "**Author:**  Elena Lowery<br/>\n",
    "**Date:**  April 2022"
   ]
  },
  {
   "cell_type": "code",
   "execution_count": null,
   "metadata": {
    "id": "afdcdb85-e169-4847-ae1c-298948c6f27d"
   },
   "outputs": [],
   "source": []
  }
 ],
 "metadata": {
  "kernelspec": {
   "display_name": "Python 3",
   "language": "python",
   "name": "python3"
  },
  "language_info": {
   "codemirror_mode": {
    "name": "ipython",
    "version": 3
   },
   "file_extension": ".py",
   "mimetype": "text/x-python",
   "name": "python",
   "nbconvert_exporter": "python",
   "pygments_lexer": "ipython3",
   "version": "3.8.5"
  }
 },
 "nbformat": 4,
 "nbformat_minor": 4
}
