{
 "cells": [
  {
   "cell_type": "code",
   "execution_count": null,
   "id": "caring-scroll",
   "metadata": {
    "id": "34607087-b8e6-4981-b54d-bbbb84a2a299",
    "tags": []
   },
   "outputs": [],
   "source": [
    "print “hello world”"
   ]
  },
  {
   "cell_type": "code",
   "execution_count": null,
   "id": "conceptual-familiar",
   "metadata": {
    "id": "7af90edb-bd61-4ea1-94f9-fe1a7420553d",
    "tags": []
   },
   "outputs": [],
   "source": [
    "“hello world”"
   ]
  },
  {
   "cell_type": "code",
   "execution_count": null,
   "id": "passing-cornell",
   "metadata": {
    "id": "2f60df63-47c9-4732-95ce-8a72a7805f85",
    "tags": []
   },
   "outputs": [],
   "source": [
    "(print “hello world”)"
   ]
  },
  {
   "cell_type": "code",
   "execution_count": null,
   "id": "unnecessary-tuition",
   "metadata": {
    "id": "a65fc639-e410-442b-8641-5819083e06ca",
    "tags": []
   },
   "outputs": [],
   "source": [
    "“hello world”"
   ]
  },
  {
   "cell_type": "code",
   "execution_count": null,
   "id": "trying-duration",
   "metadata": {
    "id": "5d71f4b1-aaf0-445f-bb79-119f687c36f2",
    "tags": []
   },
   "outputs": [],
   "source": [
    "(“hello world”)"
   ]
  },
  {
   "cell_type": "code",
   "execution_count": null,
   "id": "lesbian-packaging",
   "metadata": {
    "id": "4e1b5169-d229-404b-9edc-c9d3b5e0f967",
    "tags": []
   },
   "outputs": [],
   "source": [
    "(\"hello world\")"
   ]
  },
  {
   "cell_type": "code",
   "execution_count": null,
   "id": "realistic-typing",
   "metadata": {
    "id": "a0819c28-6f9b-40de-8800-1609a63aa5dc"
   },
   "outputs": [],
   "source": [
    "(\"test\")"
   ]
  }
 ],
 "metadata": {
  "kernelspec": {
   "display_name": "Python 3.9",
   "language": "python",
   "name": "python3"
  },
  "language_info": {
   "codemirror_mode": {
    "name": "ipython",
    "version": 3
   },
   "file_extension": ".py",
   "mimetype": "text/x-python",
   "name": "python",
   "nbconvert_exporter": "python",
   "pygments_lexer": "ipython3",
   "version": "3.9.7"
  }
 },
 "nbformat": 4,
 "nbformat_minor": 5
}
