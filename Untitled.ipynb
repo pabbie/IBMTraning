{
 "cells": [
  {
   "cell_type": "code",
   "execution_count": 1,
   "id": "million-culture",
   "metadata": {
    "id": "34607087-b8e6-4981-b54d-bbbb84a2a299",
    "tags": []
   },
   "outputs": [
    {
     "ename": "SyntaxError",
     "evalue": "Missing parentheses in call to 'print'. Did you mean print(“hello world”)? (2950386805.py, line 1)",
     "output_type": "error",
     "traceback": [
      "\u001b[0;36m  File \u001b[0;32m\"/tmp/1000650000/ipykernel_307/2950386805.py\"\u001b[0;36m, line \u001b[0;32m1\u001b[0m\n\u001b[0;31m    print “hello world”\u001b[0m\n\u001b[0m          ^\u001b[0m\n\u001b[0;31mSyntaxError\u001b[0m\u001b[0;31m:\u001b[0m Missing parentheses in call to 'print'. Did you mean print(“hello world”)?\n"
     ]
    }
   ],
   "source": [
    "print “hello world”"
   ]
  },
  {
   "cell_type": "code",
   "execution_count": 2,
   "id": "detected-palmer",
   "metadata": {
    "id": "7af90edb-bd61-4ea1-94f9-fe1a7420553d",
    "tags": []
   },
   "outputs": [
    {
     "ename": "SyntaxError",
     "evalue": "invalid character '“' (U+201C) (3007522029.py, line 1)",
     "output_type": "error",
     "traceback": [
      "\u001b[0;36m  File \u001b[0;32m\"/tmp/1000650000/ipykernel_307/3007522029.py\"\u001b[0;36m, line \u001b[0;32m1\u001b[0m\n\u001b[0;31m    “hello world”\u001b[0m\n\u001b[0m    ^\u001b[0m\n\u001b[0;31mSyntaxError\u001b[0m\u001b[0;31m:\u001b[0m invalid character '“' (U+201C)\n"
     ]
    }
   ],
   "source": [
    "“hello world”"
   ]
  },
  {
   "cell_type": "code",
   "execution_count": 3,
   "id": "inside-automation",
   "metadata": {
    "id": "2f60df63-47c9-4732-95ce-8a72a7805f85",
    "tags": []
   },
   "outputs": [
    {
     "ename": "SyntaxError",
     "evalue": "invalid character '“' (U+201C) (1244704679.py, line 1)",
     "output_type": "error",
     "traceback": [
      "\u001b[0;36m  File \u001b[0;32m\"/tmp/1000650000/ipykernel_307/1244704679.py\"\u001b[0;36m, line \u001b[0;32m1\u001b[0m\n\u001b[0;31m    (print “hello world”)\u001b[0m\n\u001b[0m           ^\u001b[0m\n\u001b[0;31mSyntaxError\u001b[0m\u001b[0;31m:\u001b[0m invalid character '“' (U+201C)\n"
     ]
    }
   ],
   "source": [
    "(print “hello world”)"
   ]
  },
  {
   "cell_type": "code",
   "execution_count": 4,
   "id": "intended-slide",
   "metadata": {
    "id": "a65fc639-e410-442b-8641-5819083e06ca",
    "tags": []
   },
   "outputs": [
    {
     "ename": "SyntaxError",
     "evalue": "invalid character '“' (U+201C) (3007522029.py, line 1)",
     "output_type": "error",
     "traceback": [
      "\u001b[0;36m  File \u001b[0;32m\"/tmp/1000650000/ipykernel_307/3007522029.py\"\u001b[0;36m, line \u001b[0;32m1\u001b[0m\n\u001b[0;31m    “hello world”\u001b[0m\n\u001b[0m    ^\u001b[0m\n\u001b[0;31mSyntaxError\u001b[0m\u001b[0;31m:\u001b[0m invalid character '“' (U+201C)\n"
     ]
    }
   ],
   "source": [
    "“hello world”"
   ]
  },
  {
   "cell_type": "code",
   "execution_count": 5,
   "id": "tight-mistress",
   "metadata": {
    "id": "5d71f4b1-aaf0-445f-bb79-119f687c36f2",
    "tags": []
   },
   "outputs": [
    {
     "ename": "SyntaxError",
     "evalue": "invalid character '“' (U+201C) (2315831013.py, line 1)",
     "output_type": "error",
     "traceback": [
      "\u001b[0;36m  File \u001b[0;32m\"/tmp/1000650000/ipykernel_307/2315831013.py\"\u001b[0;36m, line \u001b[0;32m1\u001b[0m\n\u001b[0;31m    (“hello world”)\u001b[0m\n\u001b[0m     ^\u001b[0m\n\u001b[0;31mSyntaxError\u001b[0m\u001b[0;31m:\u001b[0m invalid character '“' (U+201C)\n"
     ]
    }
   ],
   "source": [
    "(“hello world”)"
   ]
  },
  {
   "cell_type": "code",
   "execution_count": 6,
   "id": "biological-female",
   "metadata": {
    "id": "4e1b5169-d229-404b-9edc-c9d3b5e0f967",
    "tags": []
   },
   "outputs": [
    {
     "data": {
      "text/plain": [
       "'hello world'"
      ]
     },
     "execution_count": 6,
     "metadata": {},
     "output_type": "execute_result"
    }
   ],
   "source": [
    "(\"hello world\")"
   ]
  },
  {
   "cell_type": "code",
   "execution_count": null,
   "id": "therapeutic-insider",
   "metadata": {
    "id": "a0819c28-6f9b-40de-8800-1609a63aa5dc"
   },
   "outputs": [],
   "source": []
  }
 ],
 "metadata": {
  "kernelspec": {
   "display_name": "Python 3.9",
   "language": "python",
   "name": "python3"
  },
  "language_info": {
   "codemirror_mode": {
    "name": "ipython",
    "version": 3
   },
   "file_extension": ".py",
   "mimetype": "text/x-python",
   "name": "python",
   "nbconvert_exporter": "python",
   "pygments_lexer": "ipython3",
   "version": "3.9.7"
  }
 },
 "nbformat": 4,
 "nbformat_minor": 5
}
